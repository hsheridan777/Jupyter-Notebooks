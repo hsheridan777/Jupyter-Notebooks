{
 "cells": [
  {
   "cell_type": "markdown",
   "metadata": {},
   "source": [
    "# Working with numbers, texts and dates"
   ]
  },
  {
   "cell_type": "markdown",
   "metadata": {},
   "source": [
    "#### Import module and use function"
   ]
  },
  {
   "cell_type": "code",
   "execution_count": 7,
   "metadata": {},
   "outputs": [
    {
     "name": "stdout",
     "output_type": "stream",
     "text": [
      "9.0\n"
     ]
    }
   ],
   "source": [
    "import math\n",
    "z = 81\n",
    "print(math.sqrt(z))"
   ]
  },
  {
   "cell_type": "markdown",
   "metadata": {},
   "source": [
    "#### Rounding numbers"
   ]
  },
  {
   "cell_type": "code",
   "execution_count": 8,
   "metadata": {},
   "outputs": [
    {
     "name": "stdout",
     "output_type": "stream",
     "text": [
      "1.23456789\n",
      "1.23\n"
     ]
    }
   ],
   "source": [
    "x = 1.23456789\n",
    "y = round(x, 2)\n",
    "print(x)\n",
    "print(y)"
   ]
  },
  {
   "cell_type": "markdown",
   "metadata": {},
   "source": [
    "#### Using variables"
   ]
  },
  {
   "cell_type": "code",
   "execution_count": 9,
   "metadata": {},
   "outputs": [
    {
     "name": "stdout",
     "output_type": "stream",
     "text": [
      "Hello Heather\n"
     ]
    }
   ],
   "source": [
    "user_name = \"Heather\"\n",
    "print(f\"Hello {user_name}\")"
   ]
  },
  {
   "cell_type": "markdown",
   "metadata": {},
   "source": [
    "#### Using formatting and variables in strings"
   ]
  },
  {
   "cell_type": "code",
   "execution_count": 11,
   "metadata": {},
   "outputs": [
    {
     "name": "stdout",
     "output_type": "stream",
     "text": [
      "Subtotal: $1499.7\n",
      "Subtotal: $1,499.7\n",
      "Subtotal: $1,499.70\n",
      "Sales tax rate 0.065\n",
      "Sales tax rate 6.50%\n",
      "Sales tax rate 6.5%\n",
      "Sales tax rate 6.50%\n",
      "Sales tax rate 6.50%\n",
      "Sales tax rate 6.50%\n",
      "Sales tax rate 6.50%\n"
     ]
    }
   ],
   "source": [
    "unit_price = 49.99\n",
    "quantity = 30\n",
    "print(f\"Subtotal: ${unit_price * quantity}\")\n",
    "print(f\"Subtotal: ${unit_price * quantity:,}\")\n",
    "print(f\"Subtotal: ${unit_price * quantity:,.2f}\")\n",
    "\n",
    "sales_tax_rate = 0.065\n",
    "print(f\"Sales tax rate {sales_tax_rate}\")\n",
    "print(f\"Sales tax rate {sales_tax_rate:.2%}\")\n",
    "print(f\"Sales tax rate {sales_tax_rate:.1%}\")\n",
    "sample1 = f'Sales tax rate {sales_tax_rate:.2%}'\n",
    "sample2 = f\"Sales tax rate {sales_tax_rate:.2%}\"\n",
    "sample3 = f\"\"\"Sales tax rate {sales_tax_rate:.2%}\"\"\"\n",
    "sample4 = f'''Sales tax rate {sales_tax_rate:.2%}'''\n",
    "print(sample1); print(sample2); print(sample3); print(sample4)"
   ]
  },
  {
   "cell_type": "markdown",
   "metadata": {},
   "source": [
    "#### Using new line for line breaking"
   ]
  },
  {
   "cell_type": "code",
   "execution_count": 4,
   "metadata": {},
   "outputs": [
    {
     "name": "stdout",
     "output_type": "stream",
     "text": [
      "Cam\n",
      "Claire\n",
      "Phil\n",
      "Mitch\n"
     ]
    }
   ],
   "source": [
    "user1 = \"Cam\"\n",
    "user2 = \"Claire\"\n",
    "user3 = \"Phil\"\n",
    "user4 = \"Mitch\"\n",
    "\n",
    "output = f\"{user1}\\n{user2}\\n{user3}\\n{user4}\"\n",
    "print(output)"
   ]
  },
  {
   "cell_type": "markdown",
   "metadata": {},
   "source": [
    "#### Using formatting to print blocks of documentation"
   ]
  },
  {
   "cell_type": "code",
   "execution_count": 13,
   "metadata": {},
   "outputs": [
    {
     "name": "stdout",
     "output_type": "stream",
     "text": [
      "\n",
      "Subtotal:   $1,598.40\n",
      "Sales Tax:  $103.90\n",
      "Total:      $1,702.30\n",
      "\n"
     ]
    }
   ],
   "source": [
    "unit_price = 49.95\n",
    "quantity = 32\n",
    "sales_tax_rate = 0.065\n",
    "subtotal = unit_price * quantity\n",
    "sales_tax = subtotal * sales_tax_rate\n",
    "total = subtotal + sales_tax\n",
    "output1 = f\"\"\"\n",
    "Subtotal:   ${subtotal:,.2f}\n",
    "Sales Tax:  ${sales_tax:,.2f}\n",
    "Total:      ${total:,.2f}\n",
    "\"\"\"\n",
    "print(output1)"
   ]
  },
  {
   "cell_type": "markdown",
   "metadata": {},
   "source": [
    "#### Using alignment for output"
   ]
  },
  {
   "cell_type": "code",
   "execution_count": 15,
   "metadata": {},
   "outputs": [
    {
     "name": "stdout",
     "output_type": "stream",
     "text": [
      "\n",
      "Subtotal:   $ 1,598.40\n",
      "Sales Tax:  $   103.90\n",
      "Total:      $ 1,702.30\n",
      "\n",
      "\n",
      "Subtotal:   $1,598.40\n",
      "Sales Tax:    $103.90\n",
      "Total:      $1,702.30\n",
      "\n"
     ]
    }
   ],
   "source": [
    "output2 = f\"\"\"\n",
    "Subtotal:   ${subtotal:>9,.2f}\n",
    "Sales Tax:  ${sales_tax:>9,.2f}\n",
    "Total:      ${total:>9,.2f}\n",
    "\"\"\"\n",
    "print(output2)\n",
    "\n",
    "s_subtotal = \"$\" + f\"{subtotal:,.2f}\"\n",
    "s_sales_tax = \"$\" + f\"{sales_tax:,.2f}\"\n",
    "s_total = \"$\" + f\"{total:,.2f}\"\n",
    "output3 = f\"\"\"\n",
    "Subtotal:   {s_subtotal:>9}\n",
    "Sales Tax:  {s_sales_tax:>9}\n",
    "Total:      {s_total:>9}\n",
    "\"\"\"\n",
    "print(output3)"
   ]
  },
  {
   "cell_type": "markdown",
   "metadata": {},
   "source": [
    "#### Complex numbers"
   ]
  },
  {
   "cell_type": "code",
   "execution_count": 16,
   "metadata": {},
   "outputs": [
    {
     "name": "stdout",
     "output_type": "stream",
     "text": [
      "(2-3j)\n",
      "2.0\n",
      "-3.0\n"
     ]
    }
   ],
   "source": [
    "z = complex(2,-3)\n",
    "print(z)\n",
    "print(z.real)\n",
    "print(z.imag)"
   ]
  },
  {
   "cell_type": "markdown",
   "metadata": {},
   "source": [
    "#### Using variables in print"
   ]
  },
  {
   "cell_type": "code",
   "execution_count": 6,
   "metadata": {},
   "outputs": [
    {
     "name": "stdout",
     "output_type": "stream",
     "text": [
      "Sarah X. Stonestreet\n"
     ]
    }
   ],
   "source": [
    "first_name = \"Sarah\"\n",
    "middle_init = \"X\"\n",
    "last_name = \"Stonestreet\"\n",
    "print(f\"{first_name} {middle_init}. {last_name}\")"
   ]
  },
  {
   "cell_type": "markdown",
   "metadata": {},
   "source": [
    "#### Finding values in a variable"
   ]
  },
  {
   "cell_type": "code",
   "execution_count": 17,
   "metadata": {},
   "outputs": [
    {
     "name": "stdout",
     "output_type": "stream",
     "text": [
      "True\n",
      "False\n",
      "True\n",
      "***************\n",
      "A\n",
      "turtle\n",
      "AadrHuPuy' tt v\n",
      " \n",
      "y\n",
      "18\n",
      "25\n",
      "5\n",
      "65\n",
      "A\n"
     ]
    }
   ],
   "source": [
    "s = \"Abracadabra Hocus Pocus you're a turtle dove\"\n",
    "print(\"t\" in s)             #True\n",
    "print(\"T\" in s)             #False\n",
    "print(\"T\" not in s)         #True\n",
    "print(\"*\" * 15)             #***************\n",
    "print(s[0])                 #A\n",
    "print(s[33:39])             #turtle\n",
    "print(s[0:44:3])            #AadrHuPuy' tt v\n",
    "print(min(s))               #< blank space >\n",
    "print(max(s))               #y\n",
    "print(s.index(\"P\"))         #18\n",
    "print(s.index(\"o\",22,44))   #25\n",
    "print(s.count(\"a\"))         #5\n",
    "\n",
    "print(ord(\"A\"))             #65\n",
    "print(chr(65))              #A"
   ]
  },
  {
   "cell_type": "markdown",
   "metadata": {},
   "source": [
    "#### Using dates and formatting"
   ]
  },
  {
   "cell_type": "code",
   "execution_count": 15,
   "metadata": {},
   "outputs": [
    {
     "name": "stdout",
     "output_type": "stream",
     "text": [
      "2025-01-03\n",
      "2019-12-31\n",
      "12\n",
      "31\n",
      "2019\n",
      "Tuesday, December 31, 2019\n",
      "Todays date is 01/03/2025\n",
      "00:00:00\n",
      "<class 'datetime.time'>\n",
      "23:59:59.999999\n",
      " 11:59 PM\n",
      " 23:59 59 and  999999 microseconds\n",
      " 23:59:59\n",
      "2025-01-03 16:03:10.367843\n",
      "2024-12-31 23:59:59.000099\n"
     ]
    }
   ],
   "source": [
    "import datetime as dt\n",
    "today = dt.date.today()\n",
    "last_of_teens = dt.date(2019,12,31)\n",
    "print(today)\n",
    "print(last_of_teens)\n",
    "\n",
    "print(last_of_teens.month)\n",
    "print(last_of_teens.day)\n",
    "print(last_of_teens.year)\n",
    "\n",
    "print(f\"{last_of_teens:%A, %B %d, %Y}\")\n",
    "todays_date = f\"{today:%m/%d/%Y}\"\n",
    "print(\"Todays date is\",todays_date)\n",
    "\n",
    "midnight = dt.time()\n",
    "print(midnight) \n",
    "print(type(midnight))\n",
    "almost_midnight = dt.time(23,59,59,999999)\n",
    "print(almost_midnight)\n",
    "print(f\"{almost_midnight: %I:%M %p}\")\n",
    "print(f\"{almost_midnight: %H:%M %S}\",\"and\",f\"{almost_midnight: %f} microseconds\")\n",
    "print(f\"{almost_midnight: %X}\")\n",
    "\n",
    "right_now = dt.datetime.now()\n",
    "print(right_now)   \n",
    "\n",
    "new_years_eve = dt.datetime(2024,12,31,23,59,59,99)\n",
    "print(new_years_eve)"
   ]
  },
  {
   "cell_type": "markdown",
   "metadata": {},
   "source": [
    "#### Calculating difference between dates"
   ]
  },
  {
   "cell_type": "code",
   "execution_count": 14,
   "metadata": {},
   "outputs": [
    {
     "name": "stdout",
     "output_type": "stream",
     "text": [
      "147 days, 0:00:00\n",
      "<class 'datetime.timedelta'>\n"
     ]
    }
   ],
   "source": [
    "import datetime as dt\n",
    "new_years_day = dt.date(2024,1,1)\n",
    "memorial_day = dt.date(2024,5,27)\n",
    "days_between = memorial_day - new_years_day \n",
    "print(days_between)\n",
    "print(type(days_between))"
   ]
  },
  {
   "cell_type": "markdown",
   "metadata": {},
   "source": [
    "#### Finding duration"
   ]
  },
  {
   "cell_type": "code",
   "execution_count": 13,
   "metadata": {},
   "outputs": [
    {
     "name": "stdout",
     "output_type": "stream",
     "text": [
      "2024-05-27\n",
      "2024-01-01\n",
      "6:34:45\n",
      "<class 'datetime.timedelta'>\n",
      "22171 days, 12:49:58.198221\n",
      "<class 'datetime.timedelta'>\n",
      "19160 days, 0:00:00\n",
      "19160 <class 'int'>\n",
      "You are 52 years and 5 months old.\n"
     ]
    }
   ],
   "source": [
    "import datetime as dt\n",
    "new_years_day = dt.date(2024,1,1)\n",
    "memorial_day = dt.date(2024,5,27)\n",
    "days_between = memorial_day - new_years_day \n",
    "\n",
    "duration = dt.timedelta(days=147)\n",
    "print(new_years_day + duration)\n",
    "print(memorial_day - duration)\n",
    "\n",
    "start_time = dt.datetime(2024,3,31,8,0,0)\n",
    "finish_time = dt.datetime(2024,3,31,14,34,45)\n",
    "time_between = finish_time - start_time\n",
    "print(time_between)\n",
    "print(type(time_between))\n",
    "\n",
    "import datetime as dt\n",
    "now = dt.datetime.now()\n",
    "birthdate = dt.datetime(1964,4,22,3,13)\n",
    "age = now - birthdate\n",
    "print(age)\n",
    "print(type(age))\n",
    "\n",
    "import datetime as dt\n",
    "today = dt.date.today()\n",
    "birthdate = dt.date(1972,7,20)\n",
    "delta_age = (today - birthdate) \n",
    "days_old = delta_age.days\n",
    "print(delta_age)\n",
    "print(days_old, type(days_old))\n",
    "years_old = int((days_old // 365.25))\n",
    "months_old = int((days_old % 365.25) // 30.44)\n",
    "print(f\"You are {years_old} years and {months_old} months old.\")"
   ]
  },
  {
   "cell_type": "markdown",
   "metadata": {},
   "source": [
    "#### Using UTC"
   ]
  },
  {
   "cell_type": "code",
   "execution_count": 12,
   "metadata": {},
   "outputs": [
    {
     "name": "stdout",
     "output_type": "stream",
     "text": [
      "My time zone: 04:02 PM\n",
      "UTC time zone: 09:02 PM\n",
      "Difference: 5:00:00.000423\n"
     ]
    },
    {
     "name": "stderr",
     "output_type": "stream",
     "text": [
      "C:\\Users\\owner\\AppData\\Local\\Temp\\ipykernel_26200\\3432646892.py:5: DeprecationWarning: datetime.datetime.utcnow() is deprecated and scheduled for removal in a future version. Use timezone-aware objects to represent datetimes in UTC: datetime.datetime.now(datetime.UTC).\n",
      "  utc_now = dt.datetime.utcnow() #deprecating\n"
     ]
    }
   ],
   "source": [
    "import datetime as dt\n",
    "from re import I\n",
    "import time\n",
    "here_now = dt.datetime.now()\n",
    "utc_now = dt.datetime.utcnow() #deprecating\n",
    "#utc_now = dt.datetime.now(dt.UTC) # replacement but code fails with it\n",
    "time_difference = utc_now  - here_now\n",
    "print(f\"My time zone: {here_now:%I:%M %p}\")\n",
    "print(f\"UTC time zone: {utc_now:%I:%M %p}\")\n",
    "print(f\"Difference: {time_difference}\")"
   ]
  },
  {
   "cell_type": "markdown",
   "metadata": {},
   "source": [
    "#### Using timezone helpers"
   ]
  },
  {
   "cell_type": "code",
   "execution_count": 25,
   "metadata": {},
   "outputs": [
    {
     "name": "stdout",
     "output_type": "stream",
     "text": [
      "Friday 01/03/25 09:08 PM UTC\n",
      "Friday 01/03/25 04:08 PM EST\n",
      "Friday 01/03/25 03:08 PM CST\n",
      "Friday 01/03/25 02:08 PM MST\n",
      "Friday 01/03/25 01:08 PM PST\n"
     ]
    }
   ],
   "source": [
    "import datetime as dt\n",
    "from dateutil.tz import gettz\n",
    "\n",
    "utc = dt.datetime.now(gettz(\"Etc/UTC\"))\n",
    "print(f\"{utc:%A %D %I:%M %p %Z}\")\n",
    "eastern = dt.datetime.now(gettz(\"America/New_York\"))\n",
    "print(f\"{eastern:%A %D %I:%M %p %Z}\")\n",
    "central = dt.datetime.now(gettz(\"America/Chicago\"))\n",
    "print(f\"{central:%A %D %I:%M %p %Z}\")\n",
    "mountain = dt.datetime.now(gettz(\"America/Boise\"))\n",
    "print(f\"{mountain:%A %D %I:%M %p %Z}\")\n",
    "pacific = dt.datetime.now(gettz(\"America/Los_Angeles\"))\n",
    "print(f\"{pacific:%A %D %I:%M %p %Z}\")\n",
    "\n"
   ]
  },
  {
   "cell_type": "code",
   "execution_count": 32,
   "metadata": {},
   "outputs": [
    {
     "name": "stdout",
     "output_type": "stream",
     "text": [
      "Requirement already satisfied: python-dateutil in c:\\users\\owner\\appdata\\roaming\\python\\python313\\site-packages (2.9.0.post0)Note: you may need to restart the kernel to use updated packages.\n",
      "\n",
      "Requirement already satisfied: six>=1.5 in c:\\users\\owner\\appdata\\roaming\\python\\python313\\site-packages (from python-dateutil) (1.16.0)\n"
     ]
    }
   ],
   "source": [
    "%pip install python-dateutil"
   ]
  },
  {
   "cell_type": "markdown",
   "metadata": {},
   "source": [
    "#### Display local time in different time zones"
   ]
  },
  {
   "cell_type": "code",
   "execution_count": 33,
   "metadata": {},
   "outputs": [
    {
     "name": "stdout",
     "output_type": "stream",
     "text": [
      "Local: 07/04/24 07:00 PM \n",
      "\n",
      "Eastern: 07/04/24 07:00 PM EDT\n",
      "Central: 07/04/24 06:00 PM CDT\n",
      "Mountain: 07/04/24 05:00 PM MDT\n",
      "Pacific: 07/04/24 04:00 PM PDT\n",
      "UTC: 07/04/24 11:00 PM UTC\n"
     ]
    }
   ],
   "source": [
    "# Install the required package (see above)\n",
    "# %pip install python-dateutil\n",
    "\n",
    "from dateutil.tz import gettz\n",
    "from dateutil import tz\n",
    "from datetime import datetime\n",
    "\n",
    "event = dt.datetime(2024,7,4,19,0,0)\n",
    "# Show local date and time\n",
    "print(f\"Local: {event:%D %I:%M %p %Z}\\n\")\n",
    "event_eastern = event.astimezone(gettz(\"America/New_York\"))\n",
    "event_central = event.astimezone(gettz(\"America/Chicago\"))\n",
    "event_mountain = event.astimezone(gettz(\"America/Boise\"))\n",
    "event_pacific = event.astimezone(gettz(\"America/Los_Angeles\"))\n",
    "event_utc = event.astimezone(gettz(\"Etc/UTC\"))\n",
    "print(f\"Eastern: {event_eastern:%D %I:%M %p %Z}\")\n",
    "print(f\"Central: {event_central:%D %I:%M %p %Z}\")\n",
    "print(f\"Mountain: {event_mountain:%D %I:%M %p %Z}\")\n",
    "print(f\"Pacific: {event_pacific:%D %I:%M %p %Z}\")\n",
    "print(f\"UTC: {event_utc:%D %I:%M %p %Z}\")"
   ]
  }
 ],
 "metadata": {
  "kernelspec": {
   "display_name": "Python 3",
   "language": "python",
   "name": "python3"
  },
  "language_info": {
   "codemirror_mode": {
    "name": "ipython",
    "version": 3
   },
   "file_extension": ".py",
   "mimetype": "text/x-python",
   "name": "python",
   "nbconvert_exporter": "python",
   "pygments_lexer": "ipython3",
   "version": "3.13.0"
  }
 },
 "nbformat": 4,
 "nbformat_minor": 2
}
