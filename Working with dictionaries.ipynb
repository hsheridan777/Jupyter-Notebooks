{
 "cells": [
  {
   "cell_type": "markdown",
   "metadata": {},
   "source": [
    "# Working with dictionaries"
   ]
  },
  {
   "cell_type": "markdown",
   "metadata": {},
   "source": [
    "#### Create a dictionary with key:value pairs"
   ]
  },
  {
   "cell_type": "code",
   "execution_count": 2,
   "metadata": {},
   "outputs": [
    {
     "name": "stdout",
     "output_type": "stream",
     "text": [
      "Hanna Jackson\n",
      "8\n"
     ]
    }
   ],
   "source": [
    "people = {\n",
    "    \"htanaka\": \"Haru Tanaka\",\n",
    "    \"ppatel\": \"Priya Patel\",\n",
    "    \"bagarcia\": \"Benjamin Alberto Garcia\",\n",
    "    \"zmin\": \"Zhang Min\",\n",
    "    \"afarooqi\": \"Ayesha Farooqi\",\n",
    "    \"hajackson\": \"Hanna Jackson\",\n",
    "    \"papatel\": \"Pratyush Aarav Patel\",\n",
    "    \"hrjackson\": \"Henry Jackson\"\n",
    "    }\n",
    "\n",
    "#print(people)\n",
    "#print(people[\"hajackson\"])\n",
    "\n",
    "person = 'hajackson'\n",
    "print(people[person])\n",
    "\n",
    "person = 'hsheridan'\n",
    "# print(people[person]) # Produces an error because the name is not in the dictionary\n",
    "print(len(people))"
   ]
  },
  {
   "cell_type": "markdown",
   "metadata": {},
   "source": [
    "#### Error handling 101: check if the value is in the dictionary"
   ]
  },
  {
   "cell_type": "code",
   "execution_count": 3,
   "metadata": {},
   "outputs": [
    {
     "name": "stdout",
     "output_type": "stream",
     "text": [
      "'hsheridan' was not found in the dictionary\n",
      "Hanna Jackson\n",
      "Hanna Jackson\n"
     ]
    }
   ],
   "source": [
    "people = {\n",
    "    \"htanaka\": \"Haru Tanaka\",\n",
    "    \"ppatel\": \"Priya Patel\",\n",
    "    \"bagarcia\": \"Benjamin Alberto Garcia\",\n",
    "    \"zmin\": \"Zhang Min\",\n",
    "    \"afarooqi\": \"Ayesha Farooqi\",\n",
    "    \"hajackson\": \"Hanna Jackson\",\n",
    "    \"papatel\": \"Pratyush Aarav Patel\",\n",
    "    \"hrjackson\": \"Henry Jackson\"\n",
    "    }\n",
    "\n",
    "person = 'hsheridan'\n",
    "if person in people:\n",
    "    print(\"'\" + people[person] + \"' was found in the dictionary\")\n",
    "else:\n",
    "    print(\"'\" + person + \"' was not found in the dictionary\")\n",
    "\n",
    "# Alternate method using get().  This method handles missing keys without error.\n",
    "person = 'hajackson'\n",
    "print(people.get(person))\n",
    "# Add second argument to tailor 'not found' message.\n",
    "print(people.get(person, \"No such person\"))"
   ]
  },
  {
   "cell_type": "markdown",
   "metadata": {},
   "source": [
    "#### Change the value of a dictionary entry using the key"
   ]
  },
  {
   "cell_type": "code",
   "execution_count": 4,
   "metadata": {},
   "outputs": [
    {
     "name": "stdout",
     "output_type": "stream",
     "text": [
      "Hanna Jackson\n",
      "Hanna Jackson-Smith\n"
     ]
    }
   ],
   "source": [
    "people = {\n",
    "    \"htanaka\": \"Haru Tanaka\",\n",
    "    \"ppatel\": \"Priya Patel\",\n",
    "    \"bagarcia\": \"Benjamin Alberto Garcia\",\n",
    "    \"zmin\": \"Zhang Min\",\n",
    "    \"afarooqi\": \"Ayesha Farooqi\",\n",
    "    \"hajackson\": \"Hanna Jackson\",\n",
    "    \"papatel\": \"Pratyush Aarav Patel\",\n",
    "    \"hrjackson\": \"Henry Jackson\"\n",
    "    }\n",
    "\n",
    "person = 'hajackson'\n",
    "print(people.get(person))\n",
    "people[person] = 'Hanna Jackson-Smith'\n",
    "print(people.get(person))"
   ]
  },
  {
   "cell_type": "markdown",
   "metadata": {},
   "source": [
    "#### Update or add a new entry to the dictionary"
   ]
  },
  {
   "cell_type": "code",
   "execution_count": 5,
   "metadata": {},
   "outputs": [
    {
     "name": "stdout",
     "output_type": "stream",
     "text": [
      "ppatel = Priya Patel\n",
      "hrjackson = Henrietta Jackson\n",
      "wwiggins = Wanda Wiggins\n"
     ]
    }
   ],
   "source": [
    "# Create a dictionary with two entries\n",
    "people = {\n",
    "    \"ppatel\": \"Priya Patel\",\n",
    "    \"hrjackson\": \"Henry Jackson\"\n",
    "    }\n",
    "\n",
    "# Change the value \n",
    "people.update({\"hrjackson\" : \"Henrietta Jackson\"})\n",
    "    \n",
    "# Update with a new value\n",
    "people.update({\"wwiggins\": \"Wanda Wiggins\"})\n",
    "#print(people)\n",
    "\n",
    "# Show each name on it's own line\n",
    "for person in people.keys():\n",
    "    print(person + \" = \" + people[person])"
   ]
  },
  {
   "cell_type": "markdown",
   "metadata": {},
   "source": [
    "#### Loop through a dictionary"
   ]
  },
  {
   "cell_type": "code",
   "execution_count": 6,
   "metadata": {},
   "outputs": [
    {
     "name": "stdout",
     "output_type": "stream",
     "text": [
      "htanaka\n",
      "ppatel\n",
      "bagarcia\n",
      "zmin\n",
      "afarooqi\n",
      "hajackson\n",
      "papatel\n",
      "hrjackson\n",
      "Haru Tanaka\n",
      "Priya Patel\n",
      "Benjamin Alberto Garcia\n",
      "Zhang Min\n",
      "Ayesha Farooqi\n",
      "Hanna Jackson\n",
      "Pratyush Aarav Patel\n",
      "Henry Jackson\n",
      "Haru Tanaka\n",
      "Priya Patel\n",
      "Benjamin Alberto Garcia\n",
      "Zhang Min\n",
      "Ayesha Farooqi\n",
      "Hanna Jackson\n",
      "Pratyush Aarav Patel\n",
      "Henry Jackson\n",
      "htanaka = Haru Tanaka\n",
      "ppatel = Priya Patel\n",
      "bagarcia = Benjamin Alberto Garcia\n",
      "zmin = Zhang Min\n",
      "afarooqi = Ayesha Farooqi\n",
      "hajackson = Hanna Jackson\n",
      "papatel = Pratyush Aarav Patel\n",
      "hrjackson = Henry Jackson\n"
     ]
    }
   ],
   "source": [
    "people = {\n",
    "    \"htanaka\": \"Haru Tanaka\",\n",
    "    \"ppatel\": \"Priya Patel\",\n",
    "    \"bagarcia\": \"Benjamin Alberto Garcia\",\n",
    "    \"zmin\": \"Zhang Min\",\n",
    "    \"afarooqi\": \"Ayesha Farooqi\",\n",
    "    \"hajackson\": \"Hanna Jackson\",\n",
    "    \"papatel\": \"Pratyush Aarav Patel\",\n",
    "    \"hrjackson\": \"Henry Jackson\"\n",
    "    }\n",
    "\n",
    "# This will print the keys only - not very helpful\n",
    "for person in people:\n",
    "    print(person)\n",
    "\n",
    "# This will print the value associated with each key\n",
    "for person in people:\n",
    "    print(people[person])    \n",
    "\n",
    "# Alternate method using values()\n",
    "for person in people.values():\n",
    "    print(person)\n",
    "\n",
    "# Get both the key and the value using items()\n",
    "for key, value in people.items():\n",
    "    print(key + \" = \" + value)"
   ]
  },
  {
   "cell_type": "markdown",
   "metadata": {},
   "source": [
    "#### Copying a dictionary"
   ]
  },
  {
   "cell_type": "code",
   "execution_count": 7,
   "metadata": {},
   "outputs": [
    {
     "name": "stdout",
     "output_type": "stream",
     "text": [
      "Original dictionary: {'htanaka': 'Haru Tanaka', 'zmin': 'Zhang Min', 'afarooqi': 'Ayesha Farooqi'}\n",
      "New dictionary: {'htanaka': 'Haru Tanaka', 'zmin': 'Zhang Min', 'afarooqi': 'Ayesha Farooqi'}\n"
     ]
    }
   ],
   "source": [
    "people = {\n",
    "    \"htanaka\": \"Haru Tanaka\",\n",
    "    \"zmin\": \"Zhang Min\",\n",
    "    \"afarooqi\": \"Ayesha Farooqi\"\n",
    "    }\n",
    "\n",
    "new_people = people.copy()\n",
    "print(\"Original dictionary:\", people)    \n",
    "print(\"New dictionary:\", new_people)"
   ]
  },
  {
   "cell_type": "markdown",
   "metadata": {},
   "source": [
    "#### Delete dictionary items"
   ]
  },
  {
   "cell_type": "code",
   "execution_count": 8,
   "metadata": {},
   "outputs": [
    {
     "name": "stdout",
     "output_type": "stream",
     "text": [
      "Dictionary before del: {'htanaka': 'Haru Tanaka', 'zmin': 'Zhang Min', 'afarooqi': 'Ayesha Farooqi'}\n",
      "Dictionary after del: {'htanaka': 'Haru Tanaka', 'afarooqi': 'Ayesha Farooqi'}\n"
     ]
    }
   ],
   "source": [
    "####### CAUTION!  If you forget to include the key in the del command, the entire dictionary is deleted. #######\n",
    "people = {\n",
    "    \"htanaka\": \"Haru Tanaka\",\n",
    "    \"zmin\": \"Zhang Min\",\n",
    "    \"afarooqi\": \"Ayesha Farooqi\"\n",
    "    }\n",
    "\n",
    "print(\"Dictionary before del:\", people) \n",
    "del people[\"zmin\"] \n",
    "print(\"Dictionary after del:\", people) "
   ]
  },
  {
   "cell_type": "markdown",
   "metadata": {},
   "source": [
    "#### Clear the dictionary"
   ]
  },
  {
   "cell_type": "code",
   "execution_count": 9,
   "metadata": {},
   "outputs": [
    {
     "name": "stdout",
     "output_type": "stream",
     "text": [
      "Dictionary before clear: {'htanaka': 'Haru Tanaka', 'zmin': 'Zhang Min', 'afarooqi': 'Ayesha Farooqi'}\n",
      "Dictionary after clear: {}\n"
     ]
    }
   ],
   "source": [
    "# This method removes all items from the dictionary but keeps the dictionary itself.\n",
    "people = {\n",
    "    \"htanaka\": \"Haru Tanaka\",\n",
    "    \"zmin\": \"Zhang Min\",\n",
    "    \"afarooqi\": \"Ayesha Farooqi\"\n",
    "    }\n",
    "\n",
    "print(\"Dictionary before clear:\", people) \n",
    "people.clear()\n",
    "print(\"Dictionary after clear:\", people) "
   ]
  },
  {
   "cell_type": "markdown",
   "metadata": {},
   "source": [
    "#### Use pop to remove key:values from the dictionary"
   ]
  },
  {
   "cell_type": "code",
   "execution_count": 11,
   "metadata": {},
   "outputs": [
    {
     "name": "stdout",
     "output_type": "stream",
     "text": [
      "Dictionary before pop: {'htanaka': 'Haru Tanaka', 'zmin': 'Zhang Min', 'afarooqi': 'Ayesha Farooqi'}\n",
      "Entry removed: Zhang Min\n",
      "Dictionary after pop: {'htanaka': 'Haru Tanaka', 'afarooqi': 'Ayesha Farooqi'}\n"
     ]
    }
   ],
   "source": [
    "people = {\n",
    "    \"htanaka\": \"Haru Tanaka\",\n",
    "    \"zmin\": \"Zhang Min\",\n",
    "    \"afarooqi\": \"Ayesha Farooqi\"\n",
    "    }\n",
    "\n",
    "print(\"Dictionary before pop:\", people) \n",
    "removed = people.pop(\"zmin\")\n",
    "print(\"Entry removed:\", removed)\n",
    "print(\"Dictionary after pop:\", people)"
   ]
  },
  {
   "cell_type": "markdown",
   "metadata": {},
   "source": [
    "#### Use popitem to remove the last key:value from the dictionary"
   ]
  },
  {
   "cell_type": "code",
   "execution_count": 12,
   "metadata": {},
   "outputs": [
    {
     "name": "stdout",
     "output_type": "stream",
     "text": [
      "Dictionary before pop: {'htanaka': 'Haru Tanaka', 'zmin': 'Zhang Min', 'afarooqi': 'Ayesha Farooqi'}\n",
      "Entry removed: ('afarooqi', 'Ayesha Farooqi')\n",
      "Dictionary after pop: {'htanaka': 'Haru Tanaka', 'zmin': 'Zhang Min'}\n"
     ]
    }
   ],
   "source": [
    "# This differs from pop in that it removes the last item added to the dictionary.\n",
    "# It also stores the key:value pair in the variable, assuming you use a variable.\n",
    "\n",
    "people = {\n",
    "    \"htanaka\": \"Haru Tanaka\",\n",
    "    \"zmin\": \"Zhang Min\",\n",
    "    \"afarooqi\": \"Ayesha Farooqi\"\n",
    "    }\n",
    "print(\"Dictionary before pop:\", people) \n",
    "removed = people.popitem()\n",
    "print(\"Entry removed:\", removed)\n",
    "print(\"Dictionary after pop:\", people)"
   ]
  },
  {
   "cell_type": "markdown",
   "metadata": {},
   "source": [
    "#### Multi-key dictionaries"
   ]
  },
  {
   "cell_type": "code",
   "execution_count": 13,
   "metadata": {},
   "outputs": [
    {
     "name": "stdout",
     "output_type": "stream",
     "text": [
      "Product name: Ray-Ban Wayfarer Sunglasses\n",
      "Unit price: $112.99\n",
      "Taxable: True\n",
      "In stock: 10\n",
      "Models:\n",
      "   Black\n",
      "   Tortoise\n"
     ]
    }
   ],
   "source": [
    "# Create product list with multiple keys.  Note that the 'models' key has a list as its value.\n",
    "\n",
    "product = {\n",
    "    'name': 'Ray-Ban Wayfarer Sunglasses',\n",
    "    'unit_price': 112.99,\n",
    "    'taxable': True,\n",
    "    'in_stock': 10,\n",
    "    'models': ['Black', 'Tortoise']\n",
    "}\n",
    "\n",
    "# Print each value\n",
    "print(\"Product name:\", product['name'])\n",
    "print(f\"Unit price: ${product['unit_price']:.2f}\")\n",
    "print(\"Taxable:\", product['taxable'])\n",
    "print(\"In stock:\", product['in_stock'])\n",
    "#print(\"Models:\", product['models'])\n",
    "print(\"Models:\")\n",
    "for model in product['models']:\n",
    "    print(\" \" * 3 + model)"
   ]
  },
  {
   "cell_type": "markdown",
   "metadata": {},
   "source": [
    "#### fromkeys - creates a new dictionary that doesn't reference an existing dictionary"
   ]
  },
  {
   "cell_type": "code",
   "execution_count": 14,
   "metadata": {},
   "outputs": [
    {
     "name": "stdout",
     "output_type": "stream",
     "text": [
      "{'name': None, 'unit_price': None, 'taxable': None, 'in_stock': None, 'models': None}\n"
     ]
    }
   ],
   "source": [
    "# Providing keys only with no values will make the default value be 'None'.\n",
    "\n",
    "sku_dwc001 = dict.fromkeys(['name', 'unit_price', 'taxable', 'in_stock', 'models'])\n",
    "print(sku_dwc001)"
   ]
  },
  {
   "cell_type": "markdown",
   "metadata": {},
   "source": [
    "#### fromkeys - create a new dictionary using keys from an existing dictionary"
   ]
  },
  {
   "cell_type": "code",
   "execution_count": 15,
   "metadata": {},
   "outputs": [
    {
     "name": "stdout",
     "output_type": "stream",
     "text": [
      "{'name': None, 'unit_price': None, 'taxable': None, 'in_stock': None, 'models': None}\n"
     ]
    }
   ],
   "source": [
    "# Create the dictionary\n",
    "\n",
    "product = {\n",
    "    'name': '',\n",
    "    'unit_price': 0,\n",
    "    'taxable': True,\n",
    "    'in_stock': 0,\n",
    "    'models': []\n",
    "}\n",
    "\n",
    "# Create a new dictionary that has the same keys as 'product'\n",
    "sku_dwc001 = dict.fromkeys(product)\n",
    "print(sku_dwc001)"
   ]
  },
  {
   "cell_type": "markdown",
   "metadata": {},
   "source": [
    "#### setdefault - add a new key to a dictionary with a predefined value"
   ]
  },
  {
   "cell_type": "code",
   "execution_count": 17,
   "metadata": {},
   "outputs": [
    {
     "name": "stdout",
     "output_type": "stream",
     "text": [
      "Dictionary after fromkeys() and setdefault():\n",
      "{'name': None, 'unit_price': None, 'taxable': None, 'in_stock': None, 'models': None, 'reorder_point': 100}\n",
      "Dictionary after changing taxable field:\n",
      "{'name': None, 'unit_price': None, 'taxable': True, 'in_stock': None, 'models': None, 'reorder_point': 100}\n"
     ]
    }
   ],
   "source": [
    "# Only adds a new key, doens't change the value of an existing key.\n",
    "# Useful is you want to add a new key:value pair to an existing dictionary and provide the default value.\n",
    "product = {\n",
    "    'name': '',\n",
    "    'unit_price': 0,\n",
    "    'taxable': True,\n",
    "    'in_stock': 0,\n",
    "    'models': []\n",
    "}\n",
    "sku_dwc001 = dict.fromkeys(product)\n",
    "# The next two commands set the default for existing keys\n",
    "# Remember: setdefault won't chamnge the value of an existing key!  The value here is the default, 'None'.\n",
    "sku_dwc001.setdefault(\"taxable\", True) \n",
    "sku_dwc001.setdefault(\"models\", [])\n",
    "# The next command adds a new key:value pair and sets the default to 100\n",
    "sku_dwc001.setdefault(\"reorder_point\", 100)\n",
    "\n",
    "print(\"Dictionary after fromkeys() and setdefault():\")\n",
    "print(sku_dwc001)\n",
    "\n",
    "# Change the taxable field from None to True\n",
    "# This will change the value of the existing key (setdefault won't)\n",
    "sku_dwc001[\"taxable\"] = True \n",
    "print(\"Dictionary after changing taxable field:\")\n",
    "print(sku_dwc001)"
   ]
  },
  {
   "cell_type": "markdown",
   "metadata": {},
   "source": [
    "#### Nested dictionaries"
   ]
  },
  {
   "cell_type": "code",
   "execution_count": 4,
   "metadata": {},
   "outputs": [
    {
     "name": "stdout",
     "output_type": "stream",
     "text": [
      "ID     NAME                  PRICE               MODELS\n",
      "------------------------------------------------------------\n",
      "RB00111 Ray-Ban Sunglasses   $112.98             black, tortoise     \n",
      "DWC0317 Drone with camera    $ 72.95             white, black        \n",
      "MT50540 T-Shirt              $  2.95             small, medium, large\n",
      "ECD2989 Echo Dot             $ 29.99             None                \n"
     ]
    }
   ],
   "source": [
    "# Create a generic product list\n",
    "products = {\n",
    "    'RB00111': {'name': 'Ray-Ban Sunglasses', 'price': 112.98, 'models': ['black', 'tortoise']},\n",
    "    'DWC0317': {'name': 'Drone with camera', 'price': 72.95, 'models': ['white', 'black']},\n",
    "    'MT50540': {'name': 'T-Shirt', 'price': 2.95, 'models': ['small', 'medium', 'large']},\n",
    "    'ECD2989': {'name': 'Echo Dot', 'price': 29.99, 'models': []}    \n",
    "    }\n",
    "\n",
    "# Print the header\n",
    "print(f\"{'ID':<6} {'NAME':<20} {'PRICE':>6} {'MODELS':>20}\")\n",
    "print(\"-\" * 60)\n",
    "# Loop through each dictionary and print out the contents\n",
    "for product in products:\n",
    "    # Get the ID of the product\n",
    "    id = product\n",
    "    # Get the name of the product\n",
    "    name = products[product]['name']\n",
    "    # Get the unit price of the product\n",
    "    unit_price = products[product]['price']\n",
    "    models = ''\n",
    "    for model in products[product]['models']:\n",
    "        models += model + \", \"\n",
    "    if models.endswith(\", \"):\n",
    "        models = models[:-2]\n",
    "    else:\n",
    "        models = \"None\"\n",
    "    print(f\"{id:<6} {name:<20} \" + \"$\" + f\"{unit_price:>6,.2f}\" + \" \" * 13 + f\"{models:<20}\")"
   ]
  },
  {
   "cell_type": "markdown",
   "metadata": {},
   "source": [
    "#### Creating a dictionary from list comprehensio"
   ]
  },
  {
   "cell_type": "code",
   "execution_count": 24,
   "metadata": {},
   "outputs": [
    {
     "name": "stdout",
     "output_type": "stream",
     "text": [
      "{1: 'First', 2: 'Second', 3: 'Third', 4: 'Fourth', 5: 'Fifth'}\n"
     ]
    }
   ],
   "source": [
    "# Create two simple lists\n",
    "values = [\"First\", \"Second\", \"Third\", \"Fourth\", \"Fifth\"]\n",
    "keys = [1,2,3,4,5]\n",
    "\n",
    "# Use list_comprenhension to create a dictionary from both lists\n",
    "data_dict = {key: value for (key, value) in zip(keys, values)}\n",
    "print(data_dict)"
   ]
  }
 ],
 "metadata": {
  "kernelspec": {
   "display_name": "Python 3",
   "language": "python",
   "name": "python3"
  },
  "language_info": {
   "codemirror_mode": {
    "name": "ipython",
    "version": 3
   },
   "file_extension": ".py",
   "mimetype": "text/x-python",
   "name": "python",
   "nbconvert_exporter": "python",
   "pygments_lexer": "ipython3",
   "version": "3.13.0"
  }
 },
 "nbformat": 4,
 "nbformat_minor": 2
}
