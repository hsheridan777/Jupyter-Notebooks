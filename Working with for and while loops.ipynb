{
 "cells": [
  {
   "cell_type": "markdown",
   "metadata": {},
   "source": [
    "# Working with For and While loops"
   ]
  },
  {
   "cell_type": "markdown",
   "metadata": {},
   "source": [
    "#### Simple For loop with implicit starting number - 1 "
   ]
  },
  {
   "cell_type": "code",
   "execution_count": 1,
   "metadata": {},
   "outputs": [
    {
     "name": "stdout",
     "output_type": "stream",
     "text": [
      "0\n",
      "1\n",
      "2\n",
      "3\n",
      "4\n",
      "5\n",
      "6\n",
      "All done\n"
     ]
    }
   ],
   "source": [
    "for x in range(7):\n",
    "    print(x)\n",
    "print(\"All done\") "
   ]
  },
  {
   "cell_type": "markdown",
   "metadata": {},
   "source": [
    "#### Simple For loop with explicit starting number - 1"
   ]
  },
  {
   "cell_type": "code",
   "execution_count": 2,
   "metadata": {},
   "outputs": [
    {
     "name": "stdout",
     "output_type": "stream",
     "text": [
      "1\n",
      "2\n",
      "3\n",
      "4\n",
      "5\n",
      "6\n",
      "7\n",
      "8\n",
      "9\n",
      "All done\n"
     ]
    }
   ],
   "source": [
    "for x in range(1,10):\n",
    "    print(x)\n",
    "print(\"All done\")"
   ]
  },
  {
   "cell_type": "markdown",
   "metadata": {},
   "source": [
    "#### List out each letter of a word using For loop"
   ]
  },
  {
   "cell_type": "code",
   "execution_count": 3,
   "metadata": {},
   "outputs": [
    {
     "name": "stdout",
     "output_type": "stream",
     "text": [
      "P\n",
      "i\n",
      "c\n",
      "c\n",
      "a\n",
      "d\n",
      "i\n",
      "l\n",
      "l\n",
      "y\n",
      "Done!\n"
     ]
    }
   ],
   "source": [
    "my_word = \"Piccadilly\"\n",
    "for x in my_word:\n",
    "    print(x)\n",
    "print(\"Done!\") "
   ]
  },
  {
   "cell_type": "markdown",
   "metadata": {},
   "source": [
    "#### List out each word of a range using For loop"
   ]
  },
  {
   "cell_type": "code",
   "execution_count": 5,
   "metadata": {},
   "outputs": [
    {
     "name": "stdout",
     "output_type": "stream",
     "text": [
      "The\n",
      "rain\n",
      "in\n",
      "Spain\n",
      "Done!\n",
      "Happy\n",
      "Grumpy\n",
      "Sleepy\n",
      "Dopey\n",
      "Bashful\n",
      "Sneezy\n",
      "Doc\n",
      "And Snow White too!\n"
     ]
    }
   ],
   "source": [
    "for x in [\"The\",\"rain\",\"in\",\"Spain\"]:\n",
    "    print(x)\n",
    "print(\"Done!\") \n",
    "\n",
    "seven_dwarves = [\"Happy\",\"Grumpy\",\"Sleepy\",\"Dopey\",\"Bashful\",\"Sneezy\",\"Doc\"]\n",
    "for x in seven_dwarves:\n",
    "    print(x) \n",
    "print(\"And Snow White too!\") "
   ]
  },
  {
   "cell_type": "markdown",
   "metadata": {},
   "source": [
    "#### Check for condition inside For loop and if found, break"
   ]
  },
  {
   "cell_type": "code",
   "execution_count": 6,
   "metadata": {},
   "outputs": [
    {
     "name": "stdout",
     "output_type": "stream",
     "text": [
      "A\n",
      "C\n",
      "B\n",
      "D\n",
      "All done\n",
      "A\n",
      "C\n",
      "Incomplete\n",
      "All done\n"
     ]
    }
   ],
   "source": [
    "answers = [\"A\", \"C\", \"B\", \"D\"]\n",
    "for answer in answers:\n",
    "    if answer == \"\":\n",
    "        print(\"Incomplete\")\n",
    "        break\n",
    "    print(answer)\n",
    "print(\"All done\")\n",
    "\n",
    "answers = [\"A\", \"C\", \"\", \"D\"]\n",
    "for answer in answers:\n",
    "    if answer == \"\":\n",
    "        print(\"Incomplete\")\n",
    "        break\n",
    "    print(answer)\n",
    "print(\"All done\")"
   ]
  },
  {
   "cell_type": "markdown",
   "metadata": {},
   "source": [
    "#### Check for condition inside For loop and if found, continue"
   ]
  },
  {
   "cell_type": "code",
   "execution_count": 7,
   "metadata": {},
   "outputs": [
    {
     "name": "stdout",
     "output_type": "stream",
     "text": [
      "A\n",
      "C\n",
      "Incomplete\n",
      "D\n",
      "All done\n"
     ]
    }
   ],
   "source": [
    "answers = [\"A\", \"C\", \"\", \"D\"]\n",
    "for answer in answers:\n",
    "    if answer == \"\":\n",
    "        print(\"Incomplete\")\n",
    "        continue\n",
    "    print(answer)\n",
    "print(\"All done\")"
   ]
  },
  {
   "cell_type": "markdown",
   "metadata": {},
   "source": [
    "#### While loop with continue"
   ]
  },
  {
   "cell_type": "code",
   "execution_count": 8,
   "metadata": {},
   "outputs": [
    {
     "name": "stdout",
     "output_type": "stream",
     "text": [
      "Odd numbers\n",
      "73\n",
      "49\n",
      "1\n",
      "45\n",
      "57\n",
      "1\n",
      "37\n",
      "55\n",
      "11\n",
      "19\n",
      "Loop is done\n"
     ]
    }
   ],
   "source": [
    "import random\n",
    "print(\"Odd numbers\")\n",
    "counter = 0\n",
    "while counter < 10:\n",
    "    number = random.randint(1,100)\n",
    "    if number % 2 == 0:\n",
    "        continue\n",
    "    print(number)\n",
    "    counter += 1\n",
    "print(\"Loop is done\")"
   ]
  },
  {
   "cell_type": "markdown",
   "metadata": {},
   "source": [
    "#### While loop with break"
   ]
  },
  {
   "cell_type": "code",
   "execution_count": 10,
   "metadata": {},
   "outputs": [
    {
     "name": "stdout",
     "output_type": "stream",
     "text": [
      "Numbers that aren't evenly divisible by 5\n",
      "Counter 0 = 789\n",
      "Counter 1 = 81\n",
      "Counter 2 = 947\n",
      "Counter 3 = 901\n",
      "Counter 4 = 469\n",
      "Loop is done\n"
     ]
    }
   ],
   "source": [
    "import random\n",
    "print(\"Numbers that aren't evenly divisible by 5\")\n",
    "counter = 0\n",
    "while counter < 10:\n",
    "    number = random.randint(1,999)\n",
    "    if int(number / 5) == number / 5:\n",
    "        # If it's evenly divisible by 5, bail out of the loop\n",
    "        break\n",
    "    # Otherwise, print the number and keep going\n",
    "    print(f\"Counter {counter} =\", number)\n",
    "    counter += 1\n",
    "print(\"Loop is done\")"
   ]
  }
 ],
 "metadata": {
  "kernelspec": {
   "display_name": "Python 3",
   "language": "python",
   "name": "python3"
  },
  "language_info": {
   "codemirror_mode": {
    "name": "ipython",
    "version": 3
   },
   "file_extension": ".py",
   "mimetype": "text/x-python",
   "name": "python",
   "nbconvert_exporter": "python",
   "pygments_lexer": "ipython3",
   "version": "3.13.0"
  }
 },
 "nbformat": 4,
 "nbformat_minor": 2
}
