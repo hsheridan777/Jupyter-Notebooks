{
 "cells": [
  {
   "cell_type": "markdown",
   "metadata": {},
   "source": [
    "# Working with classes"
   ]
  },
  {
   "cell_type": "markdown",
   "metadata": {},
   "source": [
    "#### Create a custom class"
   ]
  },
  {
   "cell_type": "code",
   "execution_count": 1,
   "metadata": {},
   "outputs": [
    {
     "name": "stdout",
     "output_type": "stream",
     "text": [
      "<__main__.Member object at 0x000002CB7FD73E00>\n",
      "msmith\n",
      "Mark Smith\n",
      "<class '__main__.Member'>\n",
      "<__main__.Member object at 0x000002CB7FD73E00>\n",
      "ldunphy\n",
      "Mark Smith\n",
      "<class '__main__.Member'>\n"
     ]
    }
   ],
   "source": [
    "class Member:\n",
    "    ### Create a new member ###\n",
    "    def __init__ (self, user_name, full_name):\n",
    "        # Define the member's username and full name \n",
    "        self.user_name = user_name\n",
    "        self.full_name = full_name\n",
    "\n",
    "new_member = Member(\"msmith\", \"Mark Smith\")\n",
    "print(new_member)\n",
    "print(new_member.user_name)\n",
    "print(new_member.full_name)\n",
    "print(type(new_member))\n",
    "\n",
    "new_member.user_name = 'ldunphy'\n",
    "print(new_member)\n",
    "print(new_member.user_name)\n",
    "print(new_member.full_name)\n",
    "print(type(new_member))"
   ]
  },
  {
   "cell_type": "markdown",
   "metadata": {},
   "source": [
    "#### Add a default value"
   ]
  },
  {
   "cell_type": "code",
   "execution_count": 2,
   "metadata": {},
   "outputs": [
    {
     "name": "stdout",
     "output_type": "stream",
     "text": [
      "<__main__.Member object at 0x00000289BF043CB0>\n",
      "Smith\n",
      "Jasper\n",
      "2025-01-03\n",
      "True\n",
      "<class '__main__.Member'>\n"
     ]
    }
   ],
   "source": [
    "import datetime as dt\n",
    "\n",
    "class Member:\n",
    "    ### Create a new member ###\n",
    "    def __init__ (self, user_name, full_name):\n",
    "        # Define the member's username and full name \n",
    "        self.user_name = user_name\n",
    "        self.full_name = full_name\n",
    "\n",
    "        # Default date_joined to today\n",
    "        self.date_joined = dt.date.today()\n",
    "        # Set is_active to true initially\n",
    "        self.is_active = True\n",
    "\n",
    "new_member = Member(\"Smith\", \"Jasper\")\n",
    "\n",
    "print(new_member)\n",
    "print(new_member.user_name)\n",
    "print(new_member.full_name)\n",
    "print(new_member.date_joined)\n",
    "print(new_member.is_active)\n",
    "print(type(new_member))"
   ]
  },
  {
   "cell_type": "markdown",
   "metadata": {},
   "source": [
    "#### Add methods to the class"
   ]
  },
  {
   "cell_type": "code",
   "execution_count": 3,
   "metadata": {},
   "outputs": [
    {
     "name": "stdout",
     "output_type": "stream",
     "text": [
      "Jane joined on 01/03/25\n",
      "False\n",
      "True\n"
     ]
    }
   ],
   "source": [
    "import datetime as dt\n",
    "\n",
    "class Member:\n",
    "    ### Create a new member ###\n",
    "    def __init__ (self, user_name, full_name):\n",
    "        # Define the member's username and full name \n",
    "        self.user_name = user_name\n",
    "        self.full_name = full_name\n",
    "\n",
    "        # Default date_joined to today\n",
    "        self.date_joined = dt.date.today()\n",
    "        # Set is_active to true initially\n",
    "        self.is_active = True\n",
    "\n",
    "    def show_date_joined(self):\n",
    "        ### Show the date the member joined ###\n",
    "        return f\"{self.full_name} joined on {self.date_joined:%m/%d/%y}\"\n",
    "    \n",
    "    def set_active(self, yesno):\n",
    "        ### Set the member's active status ###\n",
    "        self.is_active = yesno\n",
    "\n",
    "new_member = Member(\"Smith\", \"Jane\")\n",
    "\n",
    "print(new_member.show_date_joined())\n",
    "new_member.set_active(False)\n",
    "\n",
    "print(new_member.is_active)\n",
    "new_member.set_active(True)\n",
    "\n",
    "print(new_member.is_active)"
   ]
  },
  {
   "cell_type": "markdown",
   "metadata": {},
   "source": [
    "#### Calling a class method by class name"
   ]
  },
  {
   "cell_type": "code",
   "execution_count": 4,
   "metadata": {},
   "outputs": [
    {
     "name": "stdout",
     "output_type": "stream",
     "text": [
      "John joined on 01/03/25\n",
      "Julie joined on 01/03/25\n"
     ]
    }
   ],
   "source": [
    "# Alternative to method above.\n",
    "import datetime as dt\n",
    "\n",
    "class Member:\n",
    "    ### Create a new member ###\n",
    "    def __init__ (self, user_name, full_name):\n",
    "        # Define the member's username and full name \n",
    "        self.user_name = user_name\n",
    "        self.full_name = full_name\n",
    "\n",
    "        # Default date_joined to today\n",
    "        self.date_joined = dt.date.today()\n",
    "        # Set is_active to true initially\n",
    "        self.is_active = True\n",
    "\n",
    "    def show_date_joined(self):\n",
    "        ### Show the date the member joined ###\n",
    "        return f\"{self.full_name} joined on {self.date_joined:%m/%d/%y}\"\n",
    "    \n",
    "    def set_active(self, yesno):\n",
    "        ### Set the member's active status ###\n",
    "        self.is_active = yesno\n",
    "\n",
    "john = Member(\"Smith\", \"John\")\n",
    "julie = Member(\"Smith\", \"Julie\")\n",
    "print(john.show_date_joined())\n",
    "print(julie.show_date_joined())"
   ]
  },
  {
   "cell_type": "markdown",
   "metadata": {},
   "source": [
    "#### Using class variables"
   ]
  },
  {
   "cell_type": "code",
   "execution_count": 6,
   "metadata": {},
   "outputs": [
    {
     "name": "stdout",
     "output_type": "stream",
     "text": [
      "George joined on 01/03/25\n",
      "George received 90 free days\n",
      "They expire on 04/03/2025\n"
     ]
    }
   ],
   "source": [
    "import datetime as dt\n",
    "\n",
    "class Member:\n",
    "    ### Create a new member ###\n",
    "    free_days = 90\n",
    "    \n",
    "    def __init__ (self, user_name, full_name):\n",
    "        # Define the member's username and full name \n",
    "        self.user_name = user_name\n",
    "        self.full_name = full_name\n",
    "\n",
    "        # Default date_joined to today\n",
    "        self.date_joined = dt.date.today()\n",
    "        # Set the expiration date\n",
    "        self.free_expires = self.date_joined + dt.timedelta(days=self.free_days)\n",
    "        # Set is_active to true initially\n",
    "        self.is_active = True\n",
    "\n",
    "    def show_date_joined(self):\n",
    "        ### Show the date the member joined ###\n",
    "        return f\"{self.full_name} joined on {self.date_joined:%m/%d/%y}\"\n",
    "    \n",
    "    def set_active(self, yesno):\n",
    "        ### Set the member's active status ###\n",
    "        self.is_active = yesno\n",
    "\n",
    "new_member = Member(\"McClaren\", \"George\")\n",
    "print(new_member.show_date_joined())\n",
    "print(f\"{new_member.full_name} received {new_member.free_days} free days\")\n",
    "print(f\"They expire on {new_member.free_expires:%m/%d/%Y}\")"
   ]
  },
  {
   "cell_type": "markdown",
   "metadata": {},
   "source": [
    "#### Adding a class method"
   ]
  },
  {
   "cell_type": "code",
   "execution_count": 8,
   "metadata": {},
   "outputs": [
    {
     "name": "stdout",
     "output_type": "stream",
     "text": [
      "Simon joined on 01/03/25\n",
      "Simon received 120 free days\n",
      "They expire on 04/03/2025\n"
     ]
    }
   ],
   "source": [
    "import datetime as dt\n",
    "\n",
    "class Member:\n",
    "    ### Create a new member ###\n",
    "    free_days = 90\n",
    "    \n",
    "    def __init__ (self, user_name, full_name):\n",
    "        # Define the member's username and full name \n",
    "        self.user_name = user_name\n",
    "        self.full_name = full_name\n",
    "\n",
    "        # Default date_joined to today\n",
    "        self.date_joined = dt.date.today()\n",
    "        # Set the expiration date\n",
    "        self.free_expires = dt.date.today() + dt.timedelta(Member.free_days)\n",
    "        # Set is_active to true initially\n",
    "        self.is_active = True\n",
    "\n",
    "    def show_date_joined(self):\n",
    "        ### Show the date the member joined ###\n",
    "        return f\"{self.full_name} joined on {self.date_joined:%m/%d/%y}\"\n",
    "    \n",
    "    def set_active(self, yesno):\n",
    "        ### Set the member's active status ###\n",
    "        self.is_active = yesno\n",
    "\n",
    "    @classmethod\n",
    "    def set_free_days(cls, days):\n",
    "        ### Set the number of free days for new members ###\n",
    "        cls.free_days = days\n",
    "\n",
    "new_member = Member(\"Ford\", \"Simon\")\n",
    "new_member.set_free_days(120)\n",
    "print(new_member.show_date_joined())\n",
    "print(f\"{new_member.full_name} received {new_member.free_days} free days\")\n",
    "print(f\"They expire on {new_member.free_expires:%m/%d/%Y}\")"
   ]
  },
  {
   "cell_type": "markdown",
   "metadata": {},
   "source": [
    "#### Adding a static method"
   ]
  },
  {
   "cell_type": "code",
   "execution_count": 9,
   "metadata": {},
   "outputs": [
    {
     "name": "stdout",
     "output_type": "stream",
     "text": [
      "03:24 PM\n"
     ]
    }
   ],
   "source": [
    "import datetime as dt\n",
    "\n",
    "class Member:\n",
    "    ### Create a new member ###\n",
    "    free_days = 90\n",
    "    \n",
    "    def __init__ (self, user_name, full_name):\n",
    "        # Define the member's username and full name \n",
    "        self.user_name = user_name\n",
    "        self.full_name = full_name\n",
    "\n",
    "        # Default date_joined to today\n",
    "        self.date_joined = dt.date.today()\n",
    "        # Set the expiration date\n",
    "        self.free_expires = dt.date.today() + dt.timedelta(Member.free_days)\n",
    "        # Set is_active to true initially\n",
    "        self.is_active = True\n",
    "\n",
    "    def show_date_joined(self):\n",
    "        ### Show the date the member joined ###\n",
    "        return f\"{self.full_name} joined on {self.date_joined:%m/%d/%y}\"\n",
    "    \n",
    "    def set_active(self, yesno):\n",
    "        ### Set the member's active status ###\n",
    "        self.is_active = yesno\n",
    "\n",
    "    @classmethod\n",
    "    def set_free_days(cls, days):\n",
    "        ### Set the number of free days for new members ###\n",
    "        cls.free_days = days\n",
    "\n",
    "    @staticmethod\n",
    "    def current_time():\n",
    "        now = dt.datetime.now()\n",
    "        return f\"{now:%I:%M %p}\"\n",
    "    \n",
    "print(Member.current_time())"
   ]
  },
  {
   "cell_type": "markdown",
   "metadata": {},
   "source": [
    "#### Creating the base for subclasses"
   ]
  },
  {
   "cell_type": "code",
   "execution_count": 10,
   "metadata": {},
   "outputs": [
    {
     "name": "stdout",
     "output_type": "stream",
     "text": [
      "Peter Piccadily 2026-01-03 Presto\n",
      "Peter Piccadily expires on 01/03/2026\n",
      "Dan Hammer 2026-01-03 \n",
      "Dan Hammer expires on 01/03/2026\n"
     ]
    }
   ],
   "source": [
    "import datetime as dt\n",
    "\n",
    "class Member:\n",
    "    ### Create a new member ###\n",
    "\n",
    "    # By default, a new account expires in 365 days\n",
    "    expiry_days = 365\n",
    "\n",
    "    def __init__ (self, first_name, last_name):\n",
    "        # Define the member's username and full name \n",
    "        self.first_name = first_name\n",
    "        self.last_name = last_name\n",
    "\n",
    "        # Default secret code is empty\n",
    "        self.secret_code = \"\"\n",
    "\n",
    "        # Calculate the expirty date\n",
    "        self.expiry_date = dt.date.today() + dt.timedelta(self.expiry_days)\n",
    "\n",
    "    # Show expiration date\n",
    "    def show_expiry(self):\n",
    "        return f\"{self.first_name} {self.last_name} expires on {self.expiry_date:%m/%d/%Y}\"\n",
    "\n",
    "# Add subclasses for admins and users\n",
    "\n",
    "# Subclass for admins\n",
    "class Admin(Member):\n",
    "    expiry_date = 365 * 100\n",
    "\n",
    "    def __init__ (self, first_name, last_name, secret_code):\n",
    "        # Include parameters from the base class here, not any new parameters above\n",
    "        super().__init__(first_name, last_name)\n",
    "        self.secret_code = secret_code\n",
    "\n",
    "# Subclass for users\n",
    "class User(Member):\n",
    "    pass\n",
    "\n",
    "allie = Admin('Peter','Piccadily','Presto')\n",
    "print(allie.first_name, allie.last_name, allie.expiry_date, allie.secret_code)\n",
    "print(allie.show_expiry())\n",
    "dan = User('Dan','Hammer')\n",
    "print(dan.first_name, dan.last_name, dan.expiry_date, dan.secret_code)\n",
    "print(dan.show_expiry())"
   ]
  },
  {
   "cell_type": "markdown",
   "metadata": {},
   "source": [
    "#### Resolvng the same names"
   ]
  },
  {
   "cell_type": "code",
   "execution_count": 14,
   "metadata": {},
   "outputs": [
    {
     "name": "stdout",
     "output_type": "stream",
     "text": [
      "Allison is an admin\n",
      "Dan is a regular user\n",
      "Mark is a member\n",
      "Help on class Admin in module __main__:\n",
      "\n",
      "class Admin(Member)\n",
      " |  Admin(first_name, last_name)\n",
      " |\n",
      " |  Method resolution order:\n",
      " |      Admin\n",
      " |      Member\n",
      " |      builtins.object\n",
      " |\n",
      " |  Methods defined here:\n",
      " |\n",
      " |  get_status(self)\n",
      " |\n",
      " |  ----------------------------------------------------------------------\n",
      " |  Methods inherited from Member:\n",
      " |\n",
      " |  __init__(self, first_name, last_name)\n",
      " |      Initialize self.  See help(type(self)) for accurate signature.\n",
      " |\n",
      " |  ----------------------------------------------------------------------\n",
      " |  Data descriptors inherited from Member:\n",
      " |\n",
      " |  __dict__\n",
      " |      dictionary for instance variables\n",
      " |\n",
      " |  __weakref__\n",
      " |      list of weak references to the object\n",
      "\n",
      "Help on class User in module __main__:\n",
      "\n",
      "class User(Member)\n",
      " |  User(first_name, last_name)\n",
      " |\n",
      " |  Method resolution order:\n",
      " |      User\n",
      " |      Member\n",
      " |      builtins.object\n",
      " |\n",
      " |  Methods defined here:\n",
      " |\n",
      " |  get_status(self)\n",
      " |\n",
      " |  ----------------------------------------------------------------------\n",
      " |  Methods inherited from Member:\n",
      " |\n",
      " |  __init__(self, first_name, last_name)\n",
      " |      Initialize self.  See help(type(self)) for accurate signature.\n",
      " |\n",
      " |  ----------------------------------------------------------------------\n",
      " |  Data descriptors inherited from Member:\n",
      " |\n",
      " |  __dict__\n",
      " |      dictionary for instance variables\n",
      " |\n",
      " |  __weakref__\n",
      " |      list of weak references to the object\n",
      "\n",
      "Help on class Member in module __main__:\n",
      "\n",
      "class Member(builtins.object)\n",
      " |  Member(first_name, last_name)\n",
      " |\n",
      " |  Methods defined here:\n",
      " |\n",
      " |  __init__(self, first_name, last_name)\n",
      " |      Initialize self.  See help(type(self)) for accurate signature.\n",
      " |\n",
      " |  get_status(self)\n",
      " |      # Get member's status\n",
      " |\n",
      " |  ----------------------------------------------------------------------\n",
      " |  Data descriptors defined here:\n",
      " |\n",
      " |  __dict__\n",
      " |      dictionary for instance variables\n",
      " |\n",
      " |  __weakref__\n",
      " |      list of weak references to the object\n",
      "\n"
     ]
    }
   ],
   "source": [
    "class Member:\n",
    "    ### Create a new member ###\n",
    "    def __init__ (self, first_name, last_name):\n",
    "        # Define the member's username and full name \n",
    "        self.first_name = first_name\n",
    "        self.last_name = last_name\n",
    "\n",
    "    # Get member's status\n",
    "    def get_status(self):\n",
    "        return f\"{self.first_name} is a member\"\n",
    "\n",
    "# Subclass for admins\n",
    "class Admin(Member):\n",
    "    def get_status(self):\n",
    "        return f\"{self.first_name} is an admin\"\n",
    "    \n",
    "# Subclass for users\n",
    "class User(Member):\n",
    "    def get_status(self):\n",
    "        return f\"{self.first_name} is a regular user\"\n",
    "\n",
    "allie = Admin('Allison','Smith')\n",
    "print(allie.get_status())\n",
    "\n",
    "dan = User('Dan','Prime')\n",
    "print(dan.get_status())\n",
    "\n",
    "mark = Member('Mark','Richter')\n",
    "print(mark.get_status())\n",
    "\n",
    "# This will show the order that the method is searched for and called\n",
    "help(Admin)\n",
    "help(User)\n",
    "help(Member)\n",
    "\n",
    "# This works because there's a built-in method called __dict__ that shows the attributes of a class\n",
    "# print(Admin.__dict__)\n",
    "\n",
    "# This will throw an error because the attribute doesn't exist\n",
    "# print(Admin.cosmo) "
   ]
  }
 ],
 "metadata": {
  "kernelspec": {
   "display_name": "Python 3",
   "language": "python",
   "name": "python3"
  },
  "language_info": {
   "codemirror_mode": {
    "name": "ipython",
    "version": 3
   },
   "file_extension": ".py",
   "mimetype": "text/x-python",
   "name": "python",
   "nbconvert_exporter": "python",
   "pygments_lexer": "ipython3",
   "version": "3.13.0"
  }
 },
 "nbformat": 4,
 "nbformat_minor": 2
}
