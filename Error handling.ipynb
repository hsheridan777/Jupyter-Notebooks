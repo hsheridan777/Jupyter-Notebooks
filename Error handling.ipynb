{
 "cells": [
  {
   "cell_type": "markdown",
   "metadata": {},
   "source": [
    "# Error handling"
   ]
  },
  {
   "cell_type": "markdown",
   "metadata": {},
   "source": [
    "#### Handling errors with try...except"
   ]
  },
  {
   "cell_type": "code",
   "execution_count": 1,
   "metadata": {},
   "outputs": [
    {
     "name": "stdout",
     "output_type": "stream",
     "text": [
      "The file does not exist.\n"
     ]
    }
   ],
   "source": [
    "# No people.csv file exists\n",
    "try:\n",
    "    the_file = open('people.csv')    \n",
    "except:\n",
    "    print(\"The file does not exist.\")"
   ]
  },
  {
   "cell_type": "markdown",
   "metadata": {},
   "source": [
    "#### Catching the specific error message"
   ]
  },
  {
   "cell_type": "code",
   "execution_count": 2,
   "metadata": {},
   "outputs": [
    {
     "name": "stdout",
     "output_type": "stream",
     "text": [
      "The file does not exist.\n"
     ]
    }
   ],
   "source": [
    "try:\n",
    "    the_file = open('people.csv')    \n",
    "    # The next line is valid\n",
    "    print(the_file.name)  \n",
    "    # The next line is invalid\n",
    "    print(the_file.bunny)\n",
    "except FileNotFoundError:\n",
    "    # Instead of erroring on the invalid method in the 'bunny' statement above, this directs the code to print the \n",
    "    # message only if the file was not found, and not if the method was invalid.  \n",
    "    print(\"The file does not exist.\")"
   ]
  },
  {
   "cell_type": "markdown",
   "metadata": {},
   "source": [
    "#### Adding a catch-all exception"
   ]
  },
  {
   "cell_type": "code",
   "execution_count": 3,
   "metadata": {},
   "outputs": [
    {
     "name": "stdout",
     "output_type": "stream",
     "text": [
      "The file wasn't found.\n"
     ]
    }
   ],
   "source": [
    "try:\n",
    "    the_file = open('people.csv')    \n",
    "    # The next line is valid\n",
    "    print(the_file.name)\n",
    "    # The next line is invalid\n",
    "    print(the_file.bunny)\n",
    "except FileNotFoundError:\n",
    "    # Instead of erroring on the invalid method in the 'bunny' statement above, this directs the code to print the \n",
    "    # message only if the file was not found, and not if the method was invalid.  \n",
    "    print(\"The file wasn't found.\")    \n",
    "except Exception:\n",
    "    # If I had the file people.csv, the above message wouldn't have printed but the next one would because a 'bunny'\n",
    "    # method isn't defined. This will catch any other exception that is not a FileNotFoundError.  Make sure this is \n",
    "    # the last exception in the list, otherwise it will trigger too early.  Be specific about errors when possible,\n",
    "    print(\"Something went wrong.\") "
   ]
  },
  {
   "cell_type": "markdown",
   "metadata": {},
   "source": [
    "#### Assigning a variable to the error message"
   ]
  },
  {
   "cell_type": "code",
   "execution_count": 4,
   "metadata": {},
   "outputs": [
    {
     "name": "stdout",
     "output_type": "stream",
     "text": [
      "The file wasn't found.\n"
     ]
    }
   ],
   "source": [
    "try:\n",
    "    the_file = open('people.csv')    \n",
    "    # The next line is valid\n",
    "    print(the_file.name)\n",
    "    # The next line is invalid\n",
    "    print(the_file.bunny)\n",
    "except FileNotFoundError:\n",
    "    # Instead of erroring on the invalid method in the 'bunny' statement above, this directs the code to print the \n",
    "    # message only if the file was not found, and not if the method was invalid.  \n",
    "    print(\"The file wasn't found.\")    \n",
    "except Exception as err:\n",
    "    # If I had the file people.csv, the above message wouldn't have printed but the next one would because a 'bunny'\n",
    "    # method isn't defined. This will catch any other exception that is not a FileNotFoundError.  Make sure this is \n",
    "    # the last exception in the list, otherwise it will trigger too early.  Be specific about errors when possible,\n",
    "    print(err) "
   ]
  },
  {
   "cell_type": "markdown",
   "metadata": {},
   "source": [
    "#### Continuing on if there's no error with an else block"
   ]
  },
  {
   "cell_type": "code",
   "execution_count": 5,
   "metadata": {},
   "outputs": [
    {
     "name": "stdout",
     "output_type": "stream",
     "text": [
      "The file wasn't found.\n"
     ]
    }
   ],
   "source": [
    "try:\n",
    "    the_file = open('people.csv')    \n",
    "    # The next line is valid\n",
    "    print(the_file.name)\n",
    "    # The next line is invalid\n",
    "    print(the_file.bunny)\n",
    "except FileNotFoundError:\n",
    "    # Instead of erroring on the invalid method in the 'bunny' statement above, this directs the code to print the \n",
    "    # message only if the file was not found, and not if the method was invalid.  \n",
    "    print(\"The file wasn't found.\")    \n",
    "except Exception as err:\n",
    "    # If I had the file people.csv, the above message wouldn't have printed but the next one would because a 'bunny'\n",
    "    # method isn't defined. This will catch any other exception that is not a FileNotFoundError.  Make sure this is \n",
    "    # the last exception in the list, otherwise it will trigger too early.  Be specific about errors when possible,\n",
    "    print(err) \n",
    "else:\n",
    "    print(\"Continue on...\")"
   ]
  },
  {
   "cell_type": "markdown",
   "metadata": {},
   "source": [
    "#### Continuing on if there's no error with an else/finally block"
   ]
  },
  {
   "cell_type": "code",
   "execution_count": 6,
   "metadata": {},
   "outputs": [
    {
     "name": "stdout",
     "output_type": "stream",
     "text": [
      "The file wasn't found.\n",
      "Do this no matter what\n"
     ]
    }
   ],
   "source": [
    "try:\n",
    "    the_file = open('people.csv')    \n",
    "    # The next line is valid\n",
    "    print(the_file.name)\n",
    "    # The next line is invalid\n",
    "    print(the_file.bunny)\n",
    "except FileNotFoundError:\n",
    "    # Instead of erroring on the invalid method in the 'bunny' statement above, this directs the code to print the \n",
    "    # message only if the file was not found, and not if the method was invalid.  \n",
    "    print(\"The file wasn't found.\")    \n",
    "except Exception as err:\n",
    "    # If I had the file people.csv, the above message wouldn't have printed but the next one would because a 'bunny'\n",
    "    # method isn't defined. This will catch any other exception that is not a FileNotFoundError.  Make sure this is \n",
    "    # the last exception in the list, otherwise it will trigger too early.  Be specific about errors when possible,\n",
    "    print(err) \n",
    "else:\n",
    "    print(\"Continue on...\")   \n",
    "finally:\n",
    "    # This executes whether an execption was raised above or not.  It's a good place to put clean-up code.\n",
    "    print(\"Do this no matter what\")  "
   ]
  },
  {
   "cell_type": "markdown",
   "metadata": {},
   "source": [
    "#### Raising your own errors"
   ]
  },
  {
   "cell_type": "code",
   "execution_count": 7,
   "metadata": {},
   "outputs": [
    {
     "name": "stdout",
     "output_type": "stream",
     "text": [
      "The file wasn't found.\n",
      "The file is closed now.\n"
     ]
    }
   ],
   "source": [
    "# Look for two conditions:\n",
    "# 1.  The file doesn't exist\n",
    "# 2.  The file is empty\n",
    "\n",
    "file_is_open = False\n",
    "\n",
    "class CustomException(Exception):\n",
    "    def __init__(self, message=\"This is a custom exception\"):\n",
    "        self.message = message\n",
    "        super().__init__(self.message)\n",
    "\n",
    "try:\n",
    "    the_file = open('people.csv')    \n",
    "    line_count = len(the_file.readlines())\n",
    "    if line_count < 2:\n",
    "        raise CustomException(\"Not enough rows in file\")\n",
    "\n",
    "except FileNotFoundError:\n",
    "     print(\"The file wasn't found.\")    \n",
    "\n",
    "except CustomException as e:\n",
    "    print(f\"Caught a custom exception: {e.message}\")      \n",
    "\n",
    "except Exception as err:\n",
    "    raise CustomException(\"Something went wrong\")\n",
    "\n",
    "else:\n",
    "    # The file must be open\n",
    "    file_is_open = True\n",
    "    # Reset the file pointer to the beginning of the file\n",
    "    the_file.seek(0) \n",
    "    for one_line in the_file:\n",
    "        print(one_line)  \n",
    "\n",
    "finally:\n",
    "    if file_is_open:\n",
    "        the_file.close()\n",
    "    print(\"The file is closed now.\")"
   ]
  }
 ],
 "metadata": {
  "kernelspec": {
   "display_name": "Python 3",
   "language": "python",
   "name": "python3"
  },
  "language_info": {
   "codemirror_mode": {
    "name": "ipython",
    "version": 3
   },
   "file_extension": ".py",
   "mimetype": "text/x-python",
   "name": "python",
   "nbconvert_exporter": "python",
   "pygments_lexer": "ipython3",
   "version": "3.13.0"
  }
 },
 "nbformat": 4,
 "nbformat_minor": 2
}
