{
 "cells": [
  {
   "cell_type": "markdown",
   "metadata": {},
   "source": [
    "# Access Snowflake from Python"
   ]
  },
  {
   "cell_type": "code",
   "execution_count": 1,
   "metadata": {},
   "outputs": [
    {
     "name": "stderr",
     "output_type": "stream",
     "text": [
      "c:\\Users\\owner\\AppData\\Local\\Programs\\Python\\Python313\\Lib\\site-packages\\snowflake\\connector\\config_manager.py:351: UserWarning: Bad owner or permissions on C:\\Users\\owner\\.snowflake\\connections.toml\n",
      "  warn(f\"Bad owner or permissions on {str(filep)}{chmod_message}\")\n"
     ]
    },
    {
     "name": "stdout",
     "output_type": "stream",
     "text": [
      "8.47.1\n"
     ]
    }
   ],
   "source": [
    "import snowflake.connector\n",
    "\n",
    "# To get the account parameter value, execute this in Snowflake:\n",
    "#   USE ROLE ACCOUNTADMIN;\n",
    "#   SHOW ACCOUNTS;\n",
    "#\n",
    "# Take both org name and account name, with a hyphen added between them (xxxxx-xxxxx).\n",
    "\n",
    "# Gets the version\n",
    "ctx = snowflake.connector.connect (\n",
    "    user='xxxxx',\n",
    "    password='xxxxx',\n",
    "    account = 'xxxxx'\n",
    ")\n",
    "\n",
    "cs = ctx.cursor()\n",
    "\n",
    "try:\n",
    "    cs.execute(\"SELECT current_version()\")\n",
    "    one_row = cs.fetchone()\n",
    "    print(one_row[0])\n",
    "finally:\n",
    "    cs.close()\n",
    "ctx.close()\n"
   ]
  }
 ],
 "metadata": {
  "kernelspec": {
   "display_name": "Python 3",
   "language": "python",
   "name": "python3"
  },
  "language_info": {
   "codemirror_mode": {
    "name": "ipython",
    "version": 3
   },
   "file_extension": ".py",
   "mimetype": "text/x-python",
   "name": "python",
   "nbconvert_exporter": "python",
   "pygments_lexer": "ipython3",
   "version": "3.13.0"
  }
 },
 "nbformat": 4,
 "nbformat_minor": 2
}
