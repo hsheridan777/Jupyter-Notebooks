{
 "cells": [
  {
   "cell_type": "markdown",
   "metadata": {},
   "source": [
    "# Lists and tuples"
   ]
  },
  {
   "cell_type": "markdown",
   "metadata": {},
   "source": [
    "#### Basic list operations"
   ]
  },
  {
   "cell_type": "code",
   "execution_count": 23,
   "metadata": {},
   "outputs": [
    {
     "name": "stdout",
     "output_type": "stream",
     "text": [
      "Johnette\n",
      "Brandi\n",
      "Adele\n",
      "Emily\n",
      "Amy\n",
      "Loop is done\n"
     ]
    }
   ],
   "source": [
    "students = [\"Johnette\", \"Brandi\", \"Adele\", \"Emily\", \"Amy\"]\n",
    "\n",
    "for student in students:\n",
    "    print(student)\n",
    "print(\"Loop is done\")"
   ]
  },
  {
   "cell_type": "markdown",
   "metadata": {},
   "source": [
    "#### Find value in a list"
   ]
  },
  {
   "cell_type": "code",
   "execution_count": 21,
   "metadata": {},
   "outputs": [
    {
     "name": "stdout",
     "output_type": "stream",
     "text": [
      "Amy is in the list: True\n",
      "Chris is in the list: False\n",
      "The length of the list is 8\n"
     ]
    }
   ],
   "source": [
    "has_amy = \"Amy\" in students\n",
    "print(f\"Amy is in the list: {has_amy}\")\n",
    "\n",
    "has_chris = \"Chris\" in students\n",
    "print(f\"Chris is in the list: {has_chris}\")\n",
    "\n",
    "print(f\"The length of the list is\", len(students))"
   ]
  },
  {
   "cell_type": "markdown",
   "metadata": {},
   "source": [
    "#### Append to a list"
   ]
  },
  {
   "cell_type": "code",
   "execution_count": 18,
   "metadata": {},
   "outputs": [
    {
     "name": "stdout",
     "output_type": "stream",
     "text": [
      "Johnette\n",
      "Brandi\n",
      "Adele\n",
      "Carole\n",
      "Amy\n",
      "Janis\n",
      "Janis\n",
      "Idina\n",
      "Loop is done\n",
      "The length of the list is 8\n"
     ]
    }
   ],
   "source": [
    "students.append(\"Janis\")\n",
    "new_student = \"Idina\"\n",
    "students.append(new_student)\n",
    "\n",
    "for student in students:\n",
    "    print(student)\n",
    "print(\"Loop is done\")\n",
    "\n",
    "print(f\"The length of the list is\", len(students))"
   ]
  },
  {
   "cell_type": "markdown",
   "metadata": {},
   "source": [
    "#### Add a name to the list"
   ]
  },
  {
   "cell_type": "code",
   "execution_count": 17,
   "metadata": {},
   "outputs": [
    {
     "name": "stdout",
     "output_type": "stream",
     "text": [
      "Janis is not in the list and will be added to the list.\n",
      "['Johnette', 'Brandi', 'Adele', 'Carole', 'Amy', 'Janis']\n"
     ]
    }
   ],
   "source": [
    "student_name = \"Janis\"\n",
    "if student_name in students:\n",
    "    print(f\"{student_name} is in the list\")\n",
    "else:\n",
    "    print(f\"{student_name} is not in the list and will be added to the list.\")\n",
    "    students.append(student_name)\n",
    "\n",
    "print(students)    "
   ]
  },
  {
   "cell_type": "markdown",
   "metadata": {},
   "source": [
    "#### Add a value to the list in a particular position"
   ]
  },
  {
   "cell_type": "code",
   "execution_count": 18,
   "metadata": {},
   "outputs": [
    {
     "name": "stdout",
     "output_type": "stream",
     "text": [
      "['Cosmo', 'Mark', 'Thomas', 'Holly', 'Heather', 'Julie', 'Cosmo', 'Bunny', 'Amanda', 'Cosmo', 'Bunny', 'Cosmo', 'Bunny', 'Cosmo', 'Bunny']\n"
     ]
    }
   ],
   "source": [
    "# Create a list of students\n",
    "student_name = \"Carole\"\n",
    "# Add student to the front of the list\n",
    "students.insert(0, student_name)\n",
    "# Print the new list\n",
    "print(students)"
   ]
  },
  {
   "cell_type": "markdown",
   "metadata": {},
   "source": [
    "#### Change the value of a list item"
   ]
  },
  {
   "cell_type": "code",
   "execution_count": 16,
   "metadata": {},
   "outputs": [
    {
     "name": "stdout",
     "output_type": "stream",
     "text": [
      "['Johnette', 'Brandi', 'Adele', 'Carole', 'Amy']\n"
     ]
    }
   ],
   "source": [
    "# Create a list of students\n",
    "students = [\"Johnette\", \"Brandi\", \"Adele\", \"Emily\", \"Amy\"]\n",
    "students[3] = \"Carole\"\n",
    "# Print the list\n",
    "print(students)"
   ]
  },
  {
   "cell_type": "markdown",
   "metadata": {},
   "source": [
    "#### Append lists"
   ]
  },
  {
   "cell_type": "code",
   "execution_count": 12,
   "metadata": {},
   "outputs": [
    {
     "name": "stdout",
     "output_type": "stream",
     "text": [
      "List 1 contents: ['Johnette', 'Brandi', 'Adele', 'Emily', 'Amy', 'Cosmo', 'Bunny', 'Toby', 'Champ', 'Dolly']\n",
      "List 2 contents: ['Cosmo', 'Bunny', 'Toby', 'Champ', 'Dolly']\n",
      "List 3 contents: ['Johnette', 'Brandi', 'Adele', 'Emily', 'Amy', 'Cosmo', 'Bunny', 'Toby', 'Champ', 'Dolly']\n"
     ]
    }
   ],
   "source": [
    "# Create two lists of names\n",
    "list1 = [\"Johnette\", \"Brandi\", \"Adele\", \"Emily\", \"Amy\"]\n",
    "list2 = [\"Cosmo\", \"Bunny\", \"Toby\", \"Champ\", \"Dolly\"]\n",
    "# Add list1 to list2 using plus sign\n",
    "list3  = list1 + list2\n",
    "# Add list1 to list2 using extend method\n",
    "list1.extend(list2)\n",
    "print(f\"List 1 contents: {list1}\")\n",
    "print(f\"List 2 contents: {list2}\")\n",
    "print(f\"List 3 contents: {list3}\")"
   ]
  },
  {
   "cell_type": "markdown",
   "metadata": {},
   "source": [
    "#### Remove a value from a list (first instance)"
   ]
  },
  {
   "cell_type": "code",
   "execution_count": 21,
   "metadata": {},
   "outputs": [
    {
     "name": "stdout",
     "output_type": "stream",
     "text": [
      "['A', 'B', 'D', 'C', 'E', 'C']\n"
     ]
    }
   ],
   "source": [
    "# Create a list of strings\n",
    "letters = [\"A\", \"B\", \"C\", \"D\", \"C\", \"E\", \"C\"]\n",
    "# Remove letter 'C' - this only removes the firt occurance of the letter\n",
    "letters.remove(\"C\")\n",
    "print(letters)"
   ]
  },
  {
   "cell_type": "markdown",
   "metadata": {},
   "source": [
    "#### Remove a value from a list (all instances)"
   ]
  },
  {
   "cell_type": "code",
   "execution_count": 22,
   "metadata": {},
   "outputs": [
    {
     "name": "stdout",
     "output_type": "stream",
     "text": [
      "['A', 'B', 'D', 'E']\n"
     ]
    }
   ],
   "source": [
    "# Remove all instances of a letter\n",
    "letters = [\"A\", \"B\", \"C\", \"D\", \"C\", \"E\", \"C\"]\n",
    "while \"C\" in letters:\n",
    "    letters.remove(\"C\")\n",
    "print(letters)"
   ]
  },
  {
   "cell_type": "markdown",
   "metadata": {},
   "source": [
    "#### Remove first and last value from a list (discard values)"
   ]
  },
  {
   "cell_type": "code",
   "execution_count": 23,
   "metadata": {},
   "outputs": [
    {
     "name": "stdout",
     "output_type": "stream",
     "text": [
      "Original list: ['A', 'B', 'C', 'D', 'E', 'F', 'G']\n",
      "New list: ['B', 'C', 'D', 'E', 'F']\n"
     ]
    }
   ],
   "source": [
    "# Remove first and last entries in a list\n",
    "letters = [\"A\", \"B\", \"C\", \"D\", \"E\", \"F\", \"G\"]\n",
    "print(f\"Original list: {letters}\")\n",
    "\n",
    "# Remove the first letter\n",
    "letters.pop(0)\n",
    "\n",
    "# Remove the last letter\n",
    "letters.pop()\n",
    "\n",
    "print(f\"New list: {letters}\")"
   ]
  },
  {
   "cell_type": "markdown",
   "metadata": {},
   "source": [
    "#### Remove first and last value from a list (keep values)"
   ]
  },
  {
   "cell_type": "code",
   "execution_count": 24,
   "metadata": {},
   "outputs": [
    {
     "name": "stdout",
     "output_type": "stream",
     "text": [
      "Original list: ['A', 'B', 'C', 'D', 'E', 'F', 'G']\n",
      "New list: ['B', 'C', 'D', 'E', 'F']\n",
      "First letter removed: A\n",
      "Last letter removed: G\n"
     ]
    }
   ],
   "source": [
    "# Remove first and last entries in a list but keep the values\n",
    "letters = [\"A\", \"B\", \"C\", \"D\", \"E\", \"F\", \"G\"]\n",
    "print(f\"Original list: {letters}\")\n",
    "\n",
    "# Remove the first letter\n",
    "first_removed = letters.pop(0)\n",
    "\n",
    "# Remove the last letter\n",
    "last_removed = letters.pop()\n",
    "\n",
    "print(f\"New list: {letters}\")\n",
    "print(f\"First letter removed: {first_removed}\")\n",
    "print(f\"Last letter removed: {last_removed}\")"
   ]
  },
  {
   "cell_type": "markdown",
   "metadata": {},
   "source": [
    "#### Remove item from a list using del"
   ]
  },
  {
   "cell_type": "code",
   "execution_count": 25,
   "metadata": {},
   "outputs": [
    {
     "name": "stdout",
     "output_type": "stream",
     "text": [
      "['A', 'B', 'D', 'E', 'F', 'G']\n"
     ]
    }
   ],
   "source": [
    "# Remove an item from the list using del\n",
    "letters = [\"A\", \"B\", \"C\", \"D\", \"E\", \"F\", \"G\"]\n",
    "\n",
    "# Remove item at position 2 - remember the list starts counting at zero\n",
    "del letters[2]\n",
    "print(letters)"
   ]
  },
  {
   "cell_type": "markdown",
   "metadata": {},
   "source": [
    "#### Remove entire list using del"
   ]
  },
  {
   "cell_type": "code",
   "execution_count": 11,
   "metadata": {},
   "outputs": [],
   "source": [
    "# Remove the entire list using del\n",
    "letters = [\"A\", \"B\", \"C\", \"D\", \"E\", \"F\", \"G\"]\n",
    "del letters\n",
    "\n",
    "# Expect an error if run because the list has been deleted\n",
    "# print(letters) "
   ]
  },
  {
   "cell_type": "markdown",
   "metadata": {},
   "source": [
    "#### Clear entire list, keeping reference to variable"
   ]
  },
  {
   "cell_type": "code",
   "execution_count": 27,
   "metadata": {},
   "outputs": [
    {
     "name": "stdout",
     "output_type": "stream",
     "text": [
      "[]\n"
     ]
    }
   ],
   "source": [
    "# Clear out the contents of a list using clear but keep the list\n",
    "letters = [\"A\", \"B\", \"C\", \"D\", \"E\", \"F\", \"G\"]\n",
    "\n",
    "# Clear out all the entries\n",
    "letters.clear()\n",
    "print (letters) "
   ]
  },
  {
   "cell_type": "markdown",
   "metadata": {},
   "source": [
    "#### Count the number of times a value appears in a list"
   ]
  },
  {
   "cell_type": "code",
   "execution_count": 30,
   "metadata": {},
   "outputs": [
    {
     "name": "stdout",
     "output_type": "stream",
     "text": [
      "There is 1 A grade in the list\n",
      "There are 2 B grades in the list\n",
      "There are 3 C grades in the list\n",
      "There is 1 D grade in the list\n",
      "There are 0 F grades in the list\n"
     ]
    }
   ],
   "source": [
    "# Create a list of grades\n",
    "grades = [\"C\",\"B\",\"A\",\"D\",\"C\",\"B\",\"C\"]\n",
    "\n",
    "# Count the number of times a grade appears in the list\n",
    "b_grades = grades.count(\"B\")\n",
    "\n",
    "# Use a variable for value to count\n",
    "look_for = \"C\"\n",
    "c_grades = grades.count(look_for)\n",
    "\n",
    "# Print the results.\n",
    "if grades.count(\"A\") == 1:\n",
    "    print(f\"There is 1 A grade in the list\")\n",
    "else:\n",
    "    print(f\"There are\", grades.count(\"A\"),\"A grades in the list\")\n",
    "\n",
    "if grades.count(\"B\") == 1:\n",
    "    print(f\"There is 1 B grade in the list\")  \n",
    "else:      \n",
    "    print(f\"There are\",  str(b_grades), \"B grades in the list\")\n",
    "\n",
    "if grades.count(\"C\") == 1: \n",
    "    print(f\"There is 1 C grade in the list\")  \n",
    "else:\n",
    "    print(f\"There are\", str(c_grades), look_for, \"grades in the list\")\n",
    "\n",
    "if grades.count(\"D\") == 1:   \n",
    "    print(f\"There is 1 D grade in the list\")  \n",
    "else:      \n",
    "    print(f\"There are\", grades.count(\"D\"),\"D grades in the list\")\n",
    "\n",
    "if grades.count(\"F\") == 1:   \n",
    "    print(f\"There is 1 F grade in the list\")  \n",
    "else:       \n",
    "    print(f\"There are\", grades.count(\"F\"),\"F grades in the list\")"
   ]
  },
  {
   "cell_type": "markdown",
   "metadata": {},
   "source": [
    "#### Find value's position in a list"
   ]
  },
  {
   "cell_type": "code",
   "execution_count": 9,
   "metadata": {},
   "outputs": [
    {
     "name": "stdout",
     "output_type": "stream",
     "text": [
      "The first B in the list is at index 1.\n",
      "The first A is at index 2.\n"
     ]
    }
   ],
   "source": [
    "# Create a list of grades\n",
    "grades = [\"C\",\"B\",\"A\",\"D\",\"C\",\"B\",\"C\"]\n",
    "\n",
    "# Count the number of times a grade appears in the list\n",
    "b_grades = grades.index(\"B\")\n",
    "\n",
    "# Use a variable for value to find\n",
    "look_for = \"A\"\n",
    "f_index = grades.index(look_for)\n",
    "\n",
    "# Print the results - will error out when a grade is not in the list\n",
    "print(f\"The first B in the list is at index \" + str(b_grades) + \".\")\n",
    "print(f\"The first \" + look_for + \" is at index \" + str(f_index) + \".\")"
   ]
  },
  {
   "cell_type": "markdown",
   "metadata": {},
   "source": [
    "#### Handle error when finding value's position in a list"
   ]
  },
  {
   "cell_type": "code",
   "execution_count": 33,
   "metadata": {},
   "outputs": [
    {
     "name": "stdout",
     "output_type": "stream",
     "text": [
      "The letter 'F' was not found.\n"
     ]
    }
   ],
   "source": [
    "# Create a list of grades\n",
    "grades = [\"C\",\"B\",\"A\",\"D\",\"C\",\"B\",\"C\"]\n",
    "# Use a variable for value to find\n",
    "look_for = \"F\"\n",
    "if look_for in grades:\n",
    "    print(f\"The first '\" + look_for + \" 'is at index \" + str(grades.index(look_for)) + \".\")\n",
    "else:\n",
    "    print(f\"The letter '\" + look_for + \"' was not found.\")"
   ]
  },
  {
   "cell_type": "markdown",
   "metadata": {},
   "source": [
    "#### orting lists - strings and number"
   ]
  },
  {
   "cell_type": "code",
   "execution_count": 4,
   "metadata": {},
   "outputs": [
    {
     "name": "stdout",
     "output_type": "stream",
     "text": [
      "['Bunny', 'Champ', 'Cosmo', 'Dolly', 'Toby']\n",
      "[-4, 0, 11.23, 14, 56, 56, 99]\n"
     ]
    }
   ],
   "source": [
    "# Create a list of names\n",
    "names = [\"Cosmo\", \"Bunny\", \"Toby\", \"Champ\", \"Dolly\"]\n",
    "numbers = [14, 0, 56, -4, 99, 56, 11.23]\n",
    "\n",
    "# Sort the names list\n",
    "names.sort()\n",
    "# Sort the numbers list\n",
    "numbers.sort()\n",
    "\n",
    "# Show the results\n",
    "print(names)\n",
    "print(numbers)\n",
    "\n",
    "# If using upper/lower case and the list doesn't sort correctly, use names.sort(key=lamba x: x.lower())"
   ]
  },
  {
   "cell_type": "markdown",
   "metadata": {},
   "source": [
    "#### Sorting lists by dates"
   ]
  },
  {
   "cell_type": "code",
   "execution_count": 36,
   "metadata": {},
   "outputs": [
    {
     "name": "stdout",
     "output_type": "stream",
     "text": [
      "03/14/2021\n",
      "01/01/2020\n",
      "12/22/2018\n",
      "05/07/2017\n",
      "04/22/1964\n"
     ]
    }
   ],
   "source": [
    "import datetime as dt\n",
    "# One way to create the list but it's not very readable\n",
    "dates = [dt.date(2020, 1, 1), dt.date(2020, 1, 2), dt.date(2020, 1, 3), dt.date(2020, 1, 4), dt.date(2020, 1, 5)]\n",
    "\n",
    "# Here's a cleaner way to create the list\n",
    "datelist = []\n",
    "# Append the dates\n",
    "datelist.append(dt.date(2020, 1, 1))\n",
    "datelist.append(dt.date(2018, 12, 22))\n",
    "datelist.append(dt.date(2017, 5, 7))\n",
    "datelist.append(dt.date(2021, 3, 14))\n",
    "datelist.append(dt.date(1964, 4, 22))\n",
    "# Ascending sort\n",
    "datelist.sort() \n",
    "# Descending sort\n",
    "datelist.sort(reverse=True) \n",
    "\n",
    "for date in datelist:\n",
    "    print(f\"{date:%m/%d/%Y}\")"
   ]
  },
  {
   "cell_type": "markdown",
   "metadata": {},
   "source": [
    "#### Reverse sorting of lists"
   ]
  },
  {
   "cell_type": "code",
   "execution_count": 3,
   "metadata": {},
   "outputs": [
    {
     "name": "stdout",
     "output_type": "stream",
     "text": [
      "['Toby', 'Dolly', 'Cosmo', 'Champ', 'Bunny']\n",
      "[99, 56, 56, 14, 11.23, 0, -4]\n"
     ]
    }
   ],
   "source": [
    "# Create a list of names\n",
    "names = [\"Cosmo\", \"Bunny\", \"Toby\", \"Champ\", \"Dolly\"]\n",
    "numbers = [14, 0, 56, -4, 99, 56, 11.23]\n",
    "\n",
    "# Sort the names list\n",
    "names.sort(reverse=True)\n",
    "# Sort the numbers list\n",
    "numbers.sort(reverse=True)  \n",
    "\n",
    "# Show the results\n",
    "print(names)\n",
    "print(numbers)"
   ]
  },
  {
   "cell_type": "markdown",
   "metadata": {},
   "source": [
    "#### Reverse ordering of lists"
   ]
  },
  {
   "cell_type": "code",
   "execution_count": 2,
   "metadata": {},
   "outputs": [
    {
     "name": "stdout",
     "output_type": "stream",
     "text": [
      "['Dolly', 'Champ', 'Toby', 'Bunny', 'Cosmo']\n"
     ]
    }
   ],
   "source": [
    "names = [\"Cosmo\", \"Bunny\", \"Toby\", \"Champ\", \"Dolly\"]\n",
    "\n",
    "# Reverse the order of the list\n",
    "names.reverse()\n",
    "print(names)"
   ]
  },
  {
   "cell_type": "markdown",
   "metadata": {},
   "source": [
    "#### Copying a list"
   ]
  },
  {
   "cell_type": "code",
   "execution_count": 1,
   "metadata": {},
   "outputs": [
    {
     "name": "stdout",
     "output_type": "stream",
     "text": [
      "['Cosmo', 'Bunny', 'Toby', 'Champ', 'Dolly']\n",
      "['Dolly', 'Champ', 'Toby', 'Bunny', 'Cosmo']\n"
     ]
    }
   ],
   "source": [
    "# Create a list of strings\n",
    "names = [\"Cosmo\", \"Bunny\", \"Toby\", \"Champ\", \"Dolly\"]\n",
    "\n",
    "# Make a copy of the list\n",
    "backward_names = names.copy()\n",
    "\n",
    "# Reverse the copy\n",
    "backward_names.reverse()\n",
    "\n",
    "# Print the original list\n",
    "print(names)\n",
    "\n",
    "# Print the reversed copy\n",
    "print(backward_names)"
   ]
  },
  {
   "cell_type": "markdown",
   "metadata": {},
   "source": [
    "#### List comprehension"
   ]
  },
  {
   "cell_type": "code",
   "execution_count": 41,
   "metadata": {},
   "outputs": [
    {
     "name": "stdout",
     "output_type": "stream",
     "text": [
      "[1, 2, 3, 4, 5, 6, 7, 8, 9, 10]\n",
      "[2, 4, 6, 8, 10]\n",
      "[1, 3, 5, 7, 9]\n",
      "[1, 4, 9, 16, 25, 36, 49, 64, 81, 100]\n"
     ]
    }
   ],
   "source": [
    "# Simple list of numbers\n",
    "numbers = [1, 2, 3, 4, 5, 6, 7, 8 ,9, 10]\n",
    "\n",
    "# Identical list of numbers\n",
    "same_numbers = [number for number in numbers]\n",
    "print(same_numbers) \n",
    "\n",
    "# Even numbers only from the list\n",
    "even_numbers = [number for number in numbers if number % 2 == 0]\n",
    "print(even_numbers)\n",
    "\n",
    "# Odd numbers only from the list\n",
    "odd_numbers = [number for number in numbers if number % 2 != 0]\n",
    "print(odd_numbers)\n",
    "\n",
    "# All numbers squared\n",
    "squared_numbers = [number ** 2 for number in numbers]\n",
    "print(squared_numbers)"
   ]
  },
  {
   "cell_type": "markdown",
   "metadata": {},
   "source": [
    "#### Tuples"
   ]
  },
  {
   "cell_type": "code",
   "execution_count": 42,
   "metadata": {},
   "outputs": [
    {
     "name": "stdout",
     "output_type": "stream",
     "text": [
      "5\n",
      "(29.95, 9.98, 4.95, 79.98, 1.98)\n",
      "1\n",
      "True\n",
      "4.95 is in position 2 of the tuple.\n",
      "$29.95\n",
      "$9.98\n",
      "$4.95\n",
      "$79.98\n",
      "$1.98\n"
     ]
    }
   ],
   "source": [
    "# ######### Definitiuon: values cannot be changed once defined #########\n",
    "# ######### Syntax is the same as a list but uses parens instead of square brackets #########\n",
    "\n",
    "prices = (29.95, 9.98, 4.95, 79.98, 1.98)\n",
    "\n",
    "# Find length of tuple\n",
    "print(len(prices))\n",
    "\n",
    "# Print the tuple\n",
    "print(prices)\n",
    "\n",
    "# Count the number of times a value appears in the tuple\n",
    "print(prices.count(9.98))\n",
    "\n",
    "# Find out if a value is in the tuple\n",
    "print(4.95 in prices)\n",
    "\n",
    "# Check if a value is in the tuple\n",
    "look_for = 4.95\n",
    "if look_for in prices:\n",
    "    position = prices.index(look_for)\n",
    "else:\n",
    "    position = -1\n",
    "print(f\"{look_for} is in position \" + str(position) + \" of the tuple.\")\n",
    "\n",
    "# Loop through and display each item as currency\n",
    "for price in prices:\n",
    "    print(f\"${price:.2f}\")"
   ]
  },
  {
   "cell_type": "markdown",
   "metadata": {},
   "source": [
    "#### Sets"
   ]
  },
  {
   "cell_type": "code",
   "execution_count": 44,
   "metadata": {},
   "outputs": [
    {
     "name": "stdout",
     "output_type": "stream",
     "text": [
      "6\n",
      "\n",
      "Sample set after applying .add and .update\n",
      "{1.98, 2.5, 1, 2.98, 74.95, 11.23, 16.3, 88, 98.9, 123.45}\n"
     ]
    }
   ],
   "source": [
    "# ######### Definitiuon: a list with items in no specific order #########\n",
    "# ######### - You cannot get an item in the set based on it's index number #########\n",
    "# ######### - You cannot change the order of the items in a set (sort and revserse won't work either) #########\n",
    "# ######### - A value can only appear once in a set.  If you try to add it again, it won't be added #########\n",
    "# ######### Syntax is the same as a list but uses curly brackets instead of square brackets #########\n",
    "\n",
    "sample_set = {1.98, 98.9, 74.95, 2.5, 1, 16.3}\n",
    "# Find length of set\n",
    "print(len(sample_set))\n",
    "\n",
    "# Add an item to the set\n",
    "sample_set.add(11.23)\n",
    "\n",
    "# Add multiple items to the set\n",
    "sample_set.update([88, 123.45, 2.98])\n",
    "\n",
    "# Show the whole set\n",
    "print(\"\\nSample set after applying .add and .update\")\n",
    "print(sample_set)"
   ]
  },
  {
   "cell_type": "markdown",
   "metadata": {},
   "source": [
    "#### Copy a set"
   ]
  },
  {
   "cell_type": "code",
   "execution_count": 46,
   "metadata": {},
   "outputs": [
    {
     "name": "stdout",
     "output_type": "stream",
     "text": [
      "Original set\n",
      "{16.3, 1.98, 98.9, 2.5, 1, 74.95}\n",
      "\n",
      "New set after copying\n",
      "{16.3, 1.98, 98.9, 2.5, 1, 74.95}\n",
      "\n",
      "74.95 is in the set.\n",
      " 16.30\n",
      "  1.98\n",
      " 98.90\n",
      "  2.50\n",
      "  1.00\n",
      " 74.95\n"
     ]
    }
   ],
   "source": [
    "# Copy the set.  Because there's no fixed position for each item, the copied set may appear in a different order then the original set.\n",
    "sample_set = {1.98, 98.9, 74.95, 2.5, 1, 16.3}\n",
    "\n",
    "# Show the whole set\n",
    "print(\"Original set\")\n",
    "print(sample_set)\n",
    "\n",
    "# Make a copy and show the new set\n",
    "new_set = sample_set.copy()\n",
    "print(\"\\nNew set after copying\")\n",
    "print(new_set)\n",
    "\n",
    "find_num = 74.95\n",
    "# find_num = 12345\n",
    "if find_num in sample_set:\n",
    "    print(\"\\n\" + str(find_num) + \" is in the set.\")\n",
    "else:\n",
    "    print(\"\\n\" + str(find_num) + \" is not in the set.\\n\")\n",
    "\n",
    "# Loop through the set and print each value, right aligned\n",
    "for price in sample_set:\n",
    "    print(f\"{price:>6.2f}\")\n",
    "\n",
    "\n",
    "\n",
    "\n",
    "\n",
    "\n",
    "\n",
    "\n",
    "\n"
   ]
  }
 ],
 "metadata": {
  "kernelspec": {
   "display_name": "Python 3",
   "language": "python",
   "name": "python3"
  },
  "language_info": {
   "codemirror_mode": {
    "name": "ipython",
    "version": 3
   },
   "file_extension": ".py",
   "mimetype": "text/x-python",
   "name": "python",
   "nbconvert_exporter": "python",
   "pygments_lexer": "ipython3",
   "version": "3.13.0"
  }
 },
 "nbformat": 4,
 "nbformat_minor": 2
}
