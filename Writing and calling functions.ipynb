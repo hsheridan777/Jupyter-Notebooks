{
 "cells": [
  {
   "cell_type": "markdown",
   "metadata": {},
   "source": [
    "# Writing and calling functions"
   ]
  },
  {
   "cell_type": "markdown",
   "metadata": {},
   "source": [
    "#### Create a simple function"
   ]
  },
  {
   "cell_type": "code",
   "execution_count": 8,
   "metadata": {},
   "outputs": [
    {
     "name": "stdout",
     "output_type": "stream",
     "text": [
      "Hello Heather\n",
      "Hello Chris\n"
     ]
    }
   ],
   "source": [
    "def hello(): # practice function with no parameters\n",
    "    \"\"\" This is my first function and it prints 'Hello, world!' \"\"\"\n",
    "    print('Hello ' + user_name)\n",
    "\n",
    "def hello(user_name): # practice function with single parameter\n",
    "    \"\"\" This is my first function and it prints 'Hello, world!' \"\"\"\n",
    "    print('Hello ' + user_name)\n",
    "\n",
    "# Test the function\n",
    "# Straight call of the function with parameter\n",
    "hello(\"Heather\")\n",
    "# Call the function with a parameter value contained in a variable\n",
    "user_name = \"Chris\"\n",
    "hello(user_name)"
   ]
  },
  {
   "cell_type": "markdown",
   "metadata": {},
   "source": [
    "#### Create a function with a default value if none is provided"
   ]
  },
  {
   "cell_type": "code",
   "execution_count": 10,
   "metadata": {},
   "outputs": [
    {
     "name": "stdout",
     "output_type": "stream",
     "text": [
      "Hello nobody\n",
      "Hello Heather\n"
     ]
    }
   ],
   "source": [
    "def hello(user_name = 'nobody'): \n",
    "    \"\"\" This is my first function and it prints 'Hello, world!' \"\"\"\n",
    "    print('Hello ' + user_name)\n",
    "\n",
    "# Test the function with no parameter\n",
    "hello()\n",
    "# Test the function with a parameter\n",
    "hello(\"Heather\")"
   ]
  },
  {
   "cell_type": "markdown",
   "metadata": {},
   "source": [
    "#### Create a function with mutliple parameters"
   ]
  },
  {
   "cell_type": "code",
   "execution_count": 11,
   "metadata": {},
   "outputs": [
    {
     "name": "stdout",
     "output_type": "stream",
     "text": [
      "Hello James Bond\n",
      "The date is 12-03-2024\n"
     ]
    }
   ],
   "source": [
    "def hello(first_name, last_name, date_string): \n",
    "    \"\"\" Print person's first and last name and the data string \"\"\"\n",
    "    print('Hello ' + first_name + ' ' + last_name)\n",
    "    print('The date is ' + date_string)\n",
    "\n",
    "# Test the function    \n",
    "hello(\"James\", \"Bond\", \"12-03-2024\")"
   ]
  },
  {
   "cell_type": "markdown",
   "metadata": {},
   "source": [
    "#### Create a function wusing optional parameters"
   ]
  },
  {
   "cell_type": "code",
   "execution_count": 13,
   "metadata": {},
   "outputs": [
    {
     "name": "stdout",
     "output_type": "stream",
     "text": [
      "Hello James Bond.  \n",
      "Hello James Bond.  The date is 12-03-2024.\n"
     ]
    }
   ],
   "source": [
    "# All optional parameters must be at the end of the parameter list\n",
    "def hello(first_name, last_name, date_string=''):\n",
    "    \"\"\" Print person's first and last name and the data string \"\"\"\n",
    "    msg = 'Hello ' + first_name + ' ' + last_name + '.  '\n",
    "    if len(date_string) > 0:\n",
    "        msg += 'The date is ' + date_string + '.'\n",
    "    print(msg)\n",
    "\n",
    "# Test the function    \n",
    "hello(\"James\", \"Bond\")\n",
    "hello(\"James\", \"Bond\", \"12-03-2024\")"
   ]
  },
  {
   "cell_type": "markdown",
   "metadata": {},
   "source": [
    "#### Call a function using keyword arguments"
   ]
  },
  {
   "cell_type": "code",
   "execution_count": 14,
   "metadata": {},
   "outputs": [
    {
     "name": "stdout",
     "output_type": "stream",
     "text": [
      "Hello James Bond.  \n",
      "Hello James Bond.  The date is 12-03-2024.\n"
     ]
    }
   ],
   "source": [
    "# All optional parameters must be at the end of the parameter list\n",
    "\n",
    "def hello(first_name, last_name, date_string=''):\n",
    "    \"\"\" Print person's first and last name and the data string \"\"\"\n",
    "    msg = 'Hello ' + first_name + ' ' + last_name + '.  '\n",
    "    if len(date_string) > 0:\n",
    "        msg += 'The date is ' + date_string + '.'\n",
    "    print(msg)\n",
    "\n",
    "# Test the function    \n",
    "hello(last_name = \"Bond\", first_name = \"James\")\n",
    "hello(date_string=\"12-03-2024\", first_name = \"James\", last_name = \"Bond\")"
   ]
  },
  {
   "cell_type": "markdown",
   "metadata": {},
   "source": [
    "#### Call a function using keyword arguments and variables"
   ]
  },
  {
   "cell_type": "code",
   "execution_count": 19,
   "metadata": {},
   "outputs": [
    {
     "name": "stdout",
     "output_type": "stream",
     "text": [
      "Hello James Bond.  The date is 12-03-2024.\n",
      "The original list is: ['Abby', 'Beth', 'Stephanie', 'Millie', 'Jim', 'Xavier', 'Jill', 'Ed']\n",
      "The final list is: Abby, Beth, Ed, Jill, Jim, Millie, Stephanie, Xavier\n",
      "The original list is: ['Abby', 'Beth', 'Stephanie', 'Millie', 'Jim', 'Xavier', 'Jill', 'Ed']\n",
      "The final list is: Abby, Beth, Ed, Jill, Jim, Millie, Stephanie, Xavier\n"
     ]
    }
   ],
   "source": [
    "fname = 'James'\n",
    "lname = 'Bond'\n",
    "dstring = '12-03-2024'\n",
    "hello(last_name = lname, first_name = fname, date_string = dstring)\n",
    "\n",
    "######### Call a function using an iterable (i.e list) #########\n",
    "def alphabetize(original_list = []):\n",
    "    \"\"\" Sort a list of strings in alphabetical order \"\"\"\n",
    "    # Create a copy of the original list\n",
    "    sorted_list = original_list.copy()\n",
    "    # Sort the list\n",
    "    sorted_list.sort()\n",
    "    # Make a new empty string for the output\n",
    "    final_list = ''\n",
    "    # Loop through the sorted list and append name followed by comma and a space\n",
    "    for name in sorted_list:\n",
    "        final_list += name + ', '\n",
    "    # Remove the last comma and space\n",
    "    final_list = final_list[:-2]\n",
    "    # Print the original and final lists\n",
    "    print(\"The original list is: \" + str(original_list))\n",
    "    print(\"The final list is: \" + str(final_list))\n",
    "\n",
    "# Test the function - call it directly\n",
    "alphabetize(['Abby', 'Beth', 'Stephanie', 'Millie', 'Jim', 'Xavier', 'Jill', 'Ed'])\n",
    "# Test the function - pass in a list variable\n",
    "name_list = ['Abby', 'Beth', 'Stephanie', 'Millie', 'Jim', 'Xavier', 'Jill', 'Ed']\n",
    "alphabetize(name_list)"
   ]
  },
  {
   "cell_type": "markdown",
   "metadata": {},
   "source": [
    "#### Call a sorting function"
   ]
  },
  {
   "cell_type": "code",
   "execution_count": 23,
   "metadata": {},
   "outputs": [
    {
     "name": "stdout",
     "output_type": "stream",
     "text": [
      "[-900, 0.001, 1, 2, 100000]\n"
     ]
    }
   ],
   "source": [
    "def sorter(*args):\n",
    "    \"\"\"Pass in any number of arguments separated by commas and sort them\"\"\"\n",
    "    \"\"\"Remember that inside a function, the *args variable is a tuple\"\"\"\n",
    "    \"\"\"As such, you can't manipulate the tuple directly but you can save it to a list and manipulate that instead\"\"\"\n",
    "    # Create a list from the passed-in tuple\n",
    "    new_list = list(args)\n",
    "    # Sort and show the list\n",
    "    new_list.sort()\n",
    "    print(new_list)\n",
    "\n",
    "# Test the function\n",
    "sorter(1, 0.001, 100000, -900, 2)"
   ]
  },
  {
   "cell_type": "markdown",
   "metadata": {},
   "source": [
    "#### Call an alphabetizing function"
   ]
  },
  {
   "cell_type": "code",
   "execution_count": 24,
   "metadata": {},
   "outputs": [
    {
     "name": "stdout",
     "output_type": "stream",
     "text": [
      "Abby, Beth, Ed, Jill, Jim, Millie, Stephanie, Xavier\n"
     ]
    }
   ],
   "source": [
    "def alphabetize(original_list = []):\n",
    "    \"\"\" Sort a list of strings in alphabetical order \"\"\"\n",
    "    # Create a copy of the original list\n",
    "    sorted_list = original_list.copy()\n",
    "    # Sort the list\n",
    "    sorted_list.sort()\n",
    "    # Make a new empty string for the output\n",
    "    final_list = ''\n",
    "    # Loop through the sorted list and append name followed by comma and a space\n",
    "    for name in sorted_list:\n",
    "        final_list += name + ', '\n",
    "    # Remove the last comma and space\n",
    "    final_list = final_list[:-2]\n",
    "    # Return the alphabetized list\n",
    "    return final_list\n",
    "\n",
    "# Test the function\n",
    "name_list = ['Abby', 'Beth', 'Stephanie', 'Millie', 'Jim', 'Xavier', 'Jill', 'Ed']\n",
    "sorted_list = alphabetize(name_list)\n",
    "print(sorted_list)"
   ]
  },
  {
   "cell_type": "markdown",
   "metadata": {},
   "source": [
    "#### Call anonymous function to control sorting"
   ]
  },
  {
   "cell_type": "code",
   "execution_count": 26,
   "metadata": {},
   "outputs": [
    {
     "name": "stdout",
     "output_type": "stream",
     "text": [
      "['Adams', 'Ma', 'Zandusky', 'diMeola']\n",
      "['Ma', 'Adams', 'diMeola', 'Zandusky']\n",
      "['Adams', 'diMeola', 'Ma', 'Zandusky']\n"
     ]
    }
   ],
   "source": [
    "names = [\"Adams\", \"Ma\", \"diMeola\", \"Zandusky\"]\n",
    "names.sort()\n",
    "print(names)\n",
    "# Output is ['Adams', 'Ma', 'Zandusky', 'diMeola'].  'diMeola' is not in the correct position.\n",
    "\n",
    "names.sort(key=len)\n",
    "# Sorted by length of each item in the list.  Output is ['Ma', 'Adams', 'Zandusky', 'diMeola']\n",
    "print(names) \n",
    "\n",
    "def lowercaseof(anystring):\n",
    "    \"\"\" Returns the lower case of any string passed into it\"\"\"\n",
    "    return anystring.lower()\n",
    "\n",
    "# print(lowercaseof(\"Zandusky\"))\n",
    "\n",
    "# Use this function in the sort to sort by lowercase.  This will put every name n the same alphabetical playing field.\n",
    "names = [\"Adams\", \"Ma\", \"diMeola\", \"Zandusky\"]\n",
    "names.sort(key=lowercaseof)\n",
    "print(names)"
   ]
  },
  {
   "cell_type": "markdown",
   "metadata": {},
   "source": [
    "#### Call function in one line (i.e. lambda functions)"
   ]
  },
  {
   "cell_type": "code",
   "execution_count": 28,
   "metadata": {},
   "outputs": [
    {
     "name": "stdout",
     "output_type": "stream",
     "text": [
      "['Adams', 'diMeola', 'Ma', 'Zandusky']\n"
     ]
    }
   ],
   "source": [
    "# Lambda functions are anonymous functions that are defined in one line.  They are useful for simple functions that are only used once.\n",
    "names = [\"Adams\", \"Ma\", \"diMeola\", \"Zandusky\"]\n",
    "names.sort(key=lambda anystring: anystring.lower())\n",
    "# The parameter name 'anystring' is arbitrary.  It could be any name, like 's' for string.\n",
    "names.sort(key=lambda s: s.lower())\n",
    "print(names)\n",
    "\n"
   ]
  },
  {
   "cell_type": "markdown",
   "metadata": {},
   "source": [
    "#### Helpful lambda functions"
   ]
  },
  {
   "cell_type": "code",
   "execution_count": 34,
   "metadata": {},
   "outputs": [
    {
     "name": "stdout",
     "output_type": "stream",
     "text": [
      "$1,234,567.89\n",
      "$-1,200.50\n",
      "12.34%\n",
      "50.00%\n",
      " $9,999.00\n",
      "      $9,999.00\n",
      "12.34%\n",
      "         12.34%\n"
     ]
    }
   ],
   "source": [
    "# Helpful lambda functions.  Each is possible because the work can be done in one line.\n",
    "# Currency formatter\n",
    "currency = lambda n: f\"${n:,.2f}\"\n",
    "print(currency(1234567.89))\n",
    "print(currency(-1200.50))\n",
    "\n",
    "# Percent formatter\n",
    "percent = lambda n: f\"{n:.2%}\"\n",
    "print(percent(0.1234))\n",
    "print(percent(0.5))\n",
    "\n",
    "# These could be written as the following functions, but they are simple enough to be written as lambda functions.\n",
    "def currency(n):\n",
    "    \"\"\" Show the number as currency (USD)\"\"\"\n",
    "    return f\"${n:,.2f}\"\n",
    "\n",
    "def percent(n):\n",
    "    \"\"\" Show the number as a percentage \"\"\"\n",
    "    return f\"{n:.2%}\"\n",
    "\n",
    "# Writing them as functions allows you to add more logic, if needed\n",
    "def currency(n, width = 15):\n",
    "    \"\"\" Show the number as currency (USD) and right-justify it in a field of a given width (default 15)\"\"\"\n",
    "    s = f\"${n:,.2f}\"\n",
    "    # Pad left if output with spaces to the width passed in\n",
    "    return s.rjust(width)\n",
    "\n",
    "def percent(n, width = 15):\n",
    "    \"\"\" Show the number as a percentage and right-justify it in a field of a given width (default 15) \"\"\"\n",
    "    s = f\"{n:.2%}\"    \n",
    "    # Pad left if output with spaces to the width passed in\n",
    "    return s.rjust(width)\n",
    "\n",
    "print(currency(9999, 10))\n",
    "print(currency(9999))\n",
    "\n",
    "print(percent(0.1234, 0))\n",
    "print(percent(0.1234))"
   ]
  }
 ],
 "metadata": {
  "kernelspec": {
   "display_name": "Python 3",
   "language": "python",
   "name": "python3"
  },
  "language_info": {
   "codemirror_mode": {
    "name": "ipython",
    "version": 3
   },
   "file_extension": ".py",
   "mimetype": "text/x-python",
   "name": "python",
   "nbconvert_exporter": "python",
   "pygments_lexer": "ipython3",
   "version": "3.13.0"
  }
 },
 "nbformat": 4,
 "nbformat_minor": 2
}
