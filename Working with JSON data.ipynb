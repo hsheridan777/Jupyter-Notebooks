{
 "cells": [
  {
   "cell_type": "markdown",
   "metadata": {},
   "source": [
    "# Working with JSON data"
   ]
  },
  {
   "cell_type": "markdown",
   "metadata": {},
   "source": [
    "#### Importing JSON"
   ]
  },
  {
   "cell_type": "code",
   "execution_count": 22,
   "metadata": {},
   "outputs": [
    {
     "name": "stdout",
     "output_type": "stream",
     "text": [
      "[{'Full Name': 'Tucker, Cameron', 'Birth Year': 1998, 'Date Joined': '3/5/1968', 'Is Active': True, 'Balance': '$300.00'}, {'Full Name': 'Pritchett, Mitchell', 'Birth Year': 2000, 'Date Joined': '12/1/1967', 'Is Active': True, 'Balance': '$200.00'}, {'Full Name': '', 'Birth Year': None, 'Date Joined': '', 'Is Active': None, 'Balance': ''}, {'Full Name': 'Pritchett, Lilly', 'Birth Year': 2020, 'Date Joined': '2/3/1988', 'Is Active': False, 'Balance': '$50.00'}]\n",
      "<class 'list'>\n",
      "Tucker, Cameron 1998 3/5/1968 True $300.00\n",
      "Pritchett, Mitchell 2000 12/1/1967 True $200.00\n",
      " None  None \n",
      "Pritchett, Lilly 2020 2/3/1988 False $50.00\n"
     ]
    }
   ],
   "source": [
    "import json\n",
    "\n",
    "filename = 'C:/Users/owner/Desktop/Notepad/pythoncsv.json'\n",
    "with open(filename, 'r', encoding='utf-8', newline='') as f:\n",
    "    # Load the entire file into an object named people\n",
    "    people =json.load(f)\n",
    "    # Print the entire object\n",
    "print(people)\n",
    "print(type(people))\n",
    "\n",
    "for p in people:\n",
    "    # print(type(p))\n",
    "    print(p['Full Name'], p['Birth Year'], p['Date Joined'], p['Is Active'], p['Balance'])"
   ]
  },
  {
   "cell_type": "markdown",
   "metadata": {},
   "source": [
    "#### Converting Excel data to JSON"
   ]
  },
  {
   "cell_type": "code",
   "execution_count": 26,
   "metadata": {},
   "outputs": [
    {
     "name": "stdout",
     "output_type": "stream",
     "text": [
      "Tucker, Cameron was born in 1998 and joined on 3/5/1968. Their balance is: $300.00\n",
      "Pritchett, Mitchell was born in 2000 and joined on 12/1/1967. Their balance is: $200.00\n",
      " was born in None and joined on . Their balance is: \n",
      "Pritchett, Lilly was born in 2020 and joined on 2/3/1988. Their balance is: $50.00\n"
     ]
    }
   ],
   "source": [
    "# Install the Excel reader extension by running the following command in the Terminal window in VS Code\n",
    "# pip install xlrd\n",
    "\n",
    "import json, xlrd\n",
    "import datetime as dt\n",
    "\n",
    "filename = 'C:/Users/owner/Desktop/Notepad/pythoncsv.json'\n",
    "with open(filename, 'r', encoding='utf-8', newline='') as f:\n",
    "    # Load the entire file into an object named people\n",
    "    people =json.load(f)\n",
    "    # Print the entire object\n",
    "\n",
    "for p in people:\n",
    "    name = p['Full Name']\n",
    "    birth_year = p['Birth Year']\n",
    "    # Excel date pretty trick, use xlrd module.  My data was in mm/dd/yyyy already so this bombs if added.\n",
    "    # y, m, d, h, i, s = xlrd.xldate_as_tuple(p['Date Joined'], 0)\n",
    "    # joined = dt.date(y, m, d)\n",
    "    joined = p['Date Joined']\n",
    "    balance = p['Balance']\n",
    "    # Again, my data was already formatted so this bombs if added.\n",
    "    #balance = f\"{p['Balance']:,.2f}\"\n",
    "    print(f'{name} was born in {birth_year} and joined on {joined}. Their balance is: {balance}')"
   ]
  },
  {
   "cell_type": "markdown",
   "metadata": {},
   "source": [
    "#### Loading unkeyed data from a Python string"
   ]
  },
  {
   "cell_type": "code",
   "execution_count": 27,
   "metadata": {},
   "outputs": [
    {
     "name": "stdout",
     "output_type": "stream",
     "text": [
      "John Doe 1980 2018-12-01 True 123.45\n",
      "Jane Smith 1975 2019-01-15 False 33.45\n"
     ]
    }
   ],
   "source": [
    "import json\n",
    "# Enter data into a big string of JSON.  It starts and ends with triple quotes.\n",
    "json_string = \"\"\"\n",
    "{\n",
    "\"people\" : [\n",
    "                {\n",
    "                \"Full Name\": \"John Doe\",\n",
    "                \"Birth Year\": 1980,\n",
    "                \"Date Joined\": \"2018-12-01\",\n",
    "                \"Is Active\": true,\n",
    "                \"Balance\": 123.45\n",
    "                },\n",
    "                {\n",
    "                \"Full Name\": \"Jane Smith\",\n",
    "                \"Birth Year\": 1975,\n",
    "                \"Date Joined\": \"2019-01-15\",\n",
    "                \"Is Active\": false,\n",
    "                \"Balance\": 33.45\n",
    "                }\n",
    "            ]\n",
    "        }\n",
    "\"\"\"\n",
    "\n",
    "# Load the JSON data from the string\n",
    "data = json.loads(json_string)\n",
    "# Loop through the people list\n",
    "for p in data['people']:\n",
    "    # Print the data for each person\n",
    "    print(p['Full Name'], p['Birth Year'], p['Date Joined'], p['Is Active'], p['Balance'])"
   ]
  },
  {
   "cell_type": "markdown",
   "metadata": {},
   "source": [
    "#### Loading keyed data from a Python string"
   ]
  },
  {
   "cell_type": "code",
   "execution_count": 29,
   "metadata": {},
   "outputs": [
    {
     "name": "stdout",
     "output_type": "stream",
     "text": [
      "1.  9061 - /xxx/readsads\n",
      "2.  7810 - /xxx/writesads\n"
     ]
    }
   ],
   "source": [
    "import json\n",
    "# Enter data into a big string of JSON.  It starts and ends with triple quotes.\n",
    "json_string = \"\"\"\n",
    "{\n",
    "    \"1\" : {\n",
    "            \"count\": 9061,\n",
    "            \"lastreferrer\": \"https://www.google.com/\",\n",
    "            \"lastvisit\": \"12/16/2024\",\n",
    "            \"page\": \"/xxx/readsads\"\n",
    "            },\n",
    "    \"2\" :   {\n",
    "            \"count\": 7810,\n",
    "            \"lastreferrer\": \"https://www.google.com/\",\n",
    "            \"lastvisit\": \"12/14/2024\",\n",
    "            \"page\": \"/xxx/writesads\"\n",
    "            }\n",
    "        }\n",
    "\"\"\"\n",
    "\n",
    "# Load the JSON data from the string\n",
    "hits_data = json.loads(json_string)\n",
    "# Loop through the keys and grab values\n",
    "for k, v in hits_data.items():\n",
    "    print(f\"{k}. {v['count']:>5} - {v['page']}\")"
   ]
  },
  {
   "cell_type": "markdown",
   "metadata": {},
   "source": [
    "#### Changing JSON data"
   ]
  },
  {
   "cell_type": "code",
   "execution_count": 31,
   "metadata": {},
   "outputs": [
    {
     "name": "stdout",
     "output_type": "stream",
     "text": [
      "1.  9061 - /nbr/readsads\n",
      "2.  7810 - /nbr/writesads\n"
     ]
    }
   ],
   "source": [
    "import json\n",
    "# Enter data into a big string of JSON.  It starts and ends with triple quotes.\n",
    "json_string = \"\"\"\n",
    "{\n",
    "    \"1\" : {\n",
    "            \"count\": 9061,\n",
    "            \"lastreferrer\": \"https://www.google.com/\",\n",
    "            \"lastvisit\": \"12/16/2024\",\n",
    "            \"page\": \"/xxx/readsads\"\n",
    "            },\n",
    "    \"2\" :   {\n",
    "            \"count\": 7810,\n",
    "            \"lastreferrer\": \"https://www.google.com/\",\n",
    "            \"lastvisit\": \"12/14/2024\",\n",
    "            \"page\": \"/xxx/writesads\"\n",
    "            }\n",
    "        }\n",
    "\"\"\"\n",
    "\n",
    "# Load the JSON data from the string\n",
    "hits_data = json.loads(json_string)\n",
    "# Loop through the keys and grab values\n",
    "for k, v in hits_data.items():\n",
    "    # Change the 'xxx' in each 'page'\n",
    "    v['page'] = v['page'].replace('xxx', 'nbr')\n",
    "    print(f\"{k}. {v['count']:>5} - {v['page']}\")"
   ]
  },
  {
   "cell_type": "markdown",
   "metadata": {},
   "source": [
    "#### Removing JSON data"
   ]
  },
  {
   "cell_type": "code",
   "execution_count": 32,
   "metadata": {},
   "outputs": [
    {
     "name": "stdout",
     "output_type": "stream",
     "text": [
      "1.  9061 - /xxx/readsads No referrer\n",
      "2.  7810 - /xxx/writesads No referrer\n",
      "3.  2549 - /xxx/modifiesads No referrer\n"
     ]
    }
   ],
   "source": [
    "import json\n",
    "# Enter data into a big string of JSON.  It starts and ends with triple quotes.\n",
    "json_string = \"\"\"\n",
    "{\n",
    "    \"1\" : {\n",
    "            \"count\": 9061,\n",
    "            \"lastreferrer\": \"https://www.google.com/\",\n",
    "            \"lastvisit\": \"12/16/2024\",\n",
    "            \"page\": \"/xxx/readsads\"\n",
    "            },\n",
    "    \"2\" :   {\n",
    "            \"count\": 7810,\n",
    "            \"lastreferrer\": \"https://www.google.com/\",\n",
    "            \"lastvisit\": \"12/14/2024\",\n",
    "            \"page\": \"/xxx/writesads\"\n",
    "            },\n",
    "    \"3\" :   {\n",
    "            \"count\": 2549,\n",
    "            \"lastreferrer\": \"https://www.google.com/\",\n",
    "            \"lastvisit\": \"12/12/2024\",\n",
    "            \"page\": \"/xxx/modifiesads\"\n",
    "            }            \n",
    "        }\n",
    "\"\"\"\n",
    "\n",
    "# Load the JSON data from the string\n",
    "hits_data = json.loads(json_string)\n",
    "# Loop through the keys and grab values\n",
    "for k, v in hits_data.items():\n",
    "    # Remove the lastreferrer value\n",
    "    v.pop('lastreferrer', None)\n",
    "    # Add lastreferrer to the output to show it's gone\n",
    "    print(f\"{k}. {v['count']:>5} - {v['page']} {v.get('lastreferrer', 'No referrer')}\")"
   ]
  },
  {
   "cell_type": "markdown",
   "metadata": {},
   "source": [
    "#### Dumping Python data to JSON"
   ]
  },
  {
   "cell_type": "code",
   "execution_count": 33,
   "metadata": {},
   "outputs": [],
   "source": [
    "import json\n",
    "import datetime as dt\n",
    "\n",
    "filename = 'C:/Users/owner/Desktop/Notepad/pythoncsv.json'\n",
    "with open(filename, 'r', encoding='utf-8', newline='') as f:\n",
    "    # Load the entire file into an object named people\n",
    "    people =json.load(f)\n",
    "\n",
    "# Write the data to a new JSON file named people_copy.json\n",
    "with open('C:/Users/owner/Desktop/Notepad/people_copy.json', 'w', encoding='utf-8') as new_file:\n",
    "    # Dump the people object to the new file\n",
    "    json.dump(people, new_file, ensure_ascii = False, sort_keys = True, indent=4)"
   ]
  }
 ],
 "metadata": {
  "kernelspec": {
   "display_name": "Python 3",
   "language": "python",
   "name": "python3"
  },
  "language_info": {
   "codemirror_mode": {
    "name": "ipython",
    "version": 3
   },
   "file_extension": ".py",
   "mimetype": "text/x-python",
   "name": "python",
   "nbconvert_exporter": "python",
   "pygments_lexer": "ipython3",
   "version": "3.13.0"
  }
 },
 "nbformat": 4,
 "nbformat_minor": 2
}
